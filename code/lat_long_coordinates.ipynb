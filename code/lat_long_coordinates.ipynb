{
 "cells": [
  {
   "cell_type": "markdown",
   "metadata": {},
   "source": [
    "# Import Tax Parcel df\n",
    "Read in the tax parcel dataframe in order to isolate the latitude and longitude to make a clean import into the QGIS program.  Then use the QGIS program to select the coordinates within the pyroclastic flow zone."
   ]
  },
  {
   "cell_type": "code",
   "execution_count": 1,
   "metadata": {},
   "outputs": [],
   "source": [
    "import pandas as pd"
   ]
  },
  {
   "cell_type": "code",
   "execution_count": 4,
   "metadata": {},
   "outputs": [
    {
     "data": {
      "text/html": [
       "<div>\n",
       "<style scoped>\n",
       "    .dataframe tbody tr th:only-of-type {\n",
       "        vertical-align: middle;\n",
       "    }\n",
       "\n",
       "    .dataframe tbody tr th {\n",
       "        vertical-align: top;\n",
       "    }\n",
       "\n",
       "    .dataframe thead th {\n",
       "        text-align: right;\n",
       "    }\n",
       "</style>\n",
       "<table border=\"1\" class=\"dataframe\">\n",
       "  <thead>\n",
       "    <tr style=\"text-align: right;\">\n",
       "      <th></th>\n",
       "      <th>OBJECTID</th>\n",
       "      <th>TaxParcelNumber</th>\n",
       "      <th>TaxParcelType</th>\n",
       "      <th>TaxParcelLevel</th>\n",
       "      <th>TaxParcelUnit</th>\n",
       "      <th>TaxParcelUnitType</th>\n",
       "      <th>EffectiveDate</th>\n",
       "      <th>RetiredDate</th>\n",
       "      <th>TaxParcelMultiPartCount</th>\n",
       "      <th>SubtypeCD</th>\n",
       "      <th>...</th>\n",
       "      <th>Legal_Description</th>\n",
       "      <th>Exemption_Code</th>\n",
       "      <th>RTSQQ</th>\n",
       "      <th>X_Coordinate</th>\n",
       "      <th>Y_Coordinate</th>\n",
       "      <th>Longitude</th>\n",
       "      <th>Latitude</th>\n",
       "      <th>MapLegend</th>\n",
       "      <th>Shape__Area</th>\n",
       "      <th>Shape__Length</th>\n",
       "    </tr>\n",
       "  </thead>\n",
       "  <tbody>\n",
       "    <tr>\n",
       "      <th>0</th>\n",
       "      <td>3001</td>\n",
       "      <td>21247005</td>\n",
       "      <td>Base Parcel</td>\n",
       "      <td>0.0</td>\n",
       "      <td></td>\n",
       "      <td></td>\n",
       "      <td>NaN</td>\n",
       "      <td>NaN</td>\n",
       "      <td>1.0</td>\n",
       "      <td>0</td>\n",
       "      <td>...</td>\n",
       "      <td>Section 24  Township 21  Range 00  Quarter 34 ...</td>\n",
       "      <td>EXR</td>\n",
       "      <td>212434</td>\n",
       "      <td>1.081288e+06</td>\n",
       "      <td>721057.9755</td>\n",
       "      <td>-122.75325</td>\n",
       "      <td>47.28867</td>\n",
       "      <td>Base Parcel</td>\n",
       "      <td>38758.018311</td>\n",
       "      <td>1141.837123</td>\n",
       "    </tr>\n",
       "    <tr>\n",
       "      <th>1</th>\n",
       "      <td>3002</td>\n",
       "      <td>21247006</td>\n",
       "      <td>Base Parcel</td>\n",
       "      <td>0.0</td>\n",
       "      <td></td>\n",
       "      <td>NaN</td>\n",
       "      <td>2014-10-29T00:00:00.000Z</td>\n",
       "      <td>NaN</td>\n",
       "      <td>1.0</td>\n",
       "      <td>0</td>\n",
       "      <td>...</td>\n",
       "      <td>Section 24  Township 21  Range 00  Quarter 33 ...</td>\n",
       "      <td>NaN</td>\n",
       "      <td>212433</td>\n",
       "      <td>1.080163e+06</td>\n",
       "      <td>720458.5894</td>\n",
       "      <td>-122.75771</td>\n",
       "      <td>47.28694</td>\n",
       "      <td>Base Parcel</td>\n",
       "      <td>345604.122986</td>\n",
       "      <td>3638.028072</td>\n",
       "    </tr>\n",
       "    <tr>\n",
       "      <th>2</th>\n",
       "      <td>3003</td>\n",
       "      <td>21247007</td>\n",
       "      <td>Base Parcel</td>\n",
       "      <td>0.0</td>\n",
       "      <td></td>\n",
       "      <td></td>\n",
       "      <td>2014-10-29T00:00:00.000Z</td>\n",
       "      <td>NaN</td>\n",
       "      <td>1.0</td>\n",
       "      <td>0</td>\n",
       "      <td>...</td>\n",
       "      <td>Section 24  Township 21  Range 00  Quarter 33 ...</td>\n",
       "      <td>NaN</td>\n",
       "      <td>212433</td>\n",
       "      <td>1.081042e+06</td>\n",
       "      <td>720375.4829</td>\n",
       "      <td>-122.75416</td>\n",
       "      <td>47.28678</td>\n",
       "      <td>Base Parcel</td>\n",
       "      <td>133528.313354</td>\n",
       "      <td>2089.154656</td>\n",
       "    </tr>\n",
       "    <tr>\n",
       "      <th>3</th>\n",
       "      <td>3004</td>\n",
       "      <td>21247700</td>\n",
       "      <td>Base Parcel</td>\n",
       "      <td>0.0</td>\n",
       "      <td></td>\n",
       "      <td></td>\n",
       "      <td>NaN</td>\n",
       "      <td>NaN</td>\n",
       "      <td>1.0</td>\n",
       "      <td>0</td>\n",
       "      <td>...</td>\n",
       "      <td>Section 24 Township 21 Range 00 Quarter 33 : 2...</td>\n",
       "      <td>NaN</td>\n",
       "      <td>212433</td>\n",
       "      <td>1.080063e+06</td>\n",
       "      <td>720851.0629</td>\n",
       "      <td>-122.75815</td>\n",
       "      <td>47.28801</td>\n",
       "      <td>Base Parcel</td>\n",
       "      <td>60097.457336</td>\n",
       "      <td>1243.548915</td>\n",
       "    </tr>\n",
       "    <tr>\n",
       "      <th>4</th>\n",
       "      <td>3005</td>\n",
       "      <td>21247701</td>\n",
       "      <td>Base Parcel</td>\n",
       "      <td>0.0</td>\n",
       "      <td></td>\n",
       "      <td></td>\n",
       "      <td>NaN</td>\n",
       "      <td>NaN</td>\n",
       "      <td>1.0</td>\n",
       "      <td>0</td>\n",
       "      <td>...</td>\n",
       "      <td>Section 24 Township 21 Range 00 Quarter 33 : 2...</td>\n",
       "      <td>NaN</td>\n",
       "      <td>212433</td>\n",
       "      <td>1.080827e+06</td>\n",
       "      <td>720849.5547</td>\n",
       "      <td>-122.75508</td>\n",
       "      <td>47.28806</td>\n",
       "      <td>Base Parcel</td>\n",
       "      <td>122531.592957</td>\n",
       "      <td>2293.364640</td>\n",
       "    </tr>\n",
       "  </tbody>\n",
       "</table>\n",
       "<p>5 rows × 35 columns</p>\n",
       "</div>"
      ],
      "text/plain": [
       "   OBJECTID  TaxParcelNumber TaxParcelType  TaxParcelLevel TaxParcelUnit  \\\n",
       "0      3001         21247005   Base Parcel             0.0                 \n",
       "1      3002         21247006   Base Parcel             0.0                 \n",
       "2      3003         21247007   Base Parcel             0.0                 \n",
       "3      3004         21247700   Base Parcel             0.0                 \n",
       "4      3005         21247701   Base Parcel             0.0                 \n",
       "\n",
       "  TaxParcelUnitType             EffectiveDate RetiredDate  \\\n",
       "0                                         NaN         NaN   \n",
       "1               NaN  2014-10-29T00:00:00.000Z         NaN   \n",
       "2                    2014-10-29T00:00:00.000Z         NaN   \n",
       "3                                         NaN         NaN   \n",
       "4                                         NaN         NaN   \n",
       "\n",
       "   TaxParcelMultiPartCount  SubtypeCD  ...  \\\n",
       "0                      1.0          0  ...   \n",
       "1                      1.0          0  ...   \n",
       "2                      1.0          0  ...   \n",
       "3                      1.0          0  ...   \n",
       "4                      1.0          0  ...   \n",
       "\n",
       "                                   Legal_Description Exemption_Code   RTSQQ  \\\n",
       "0  Section 24  Township 21  Range 00  Quarter 34 ...            EXR  212434   \n",
       "1  Section 24  Township 21  Range 00  Quarter 33 ...            NaN  212433   \n",
       "2  Section 24  Township 21  Range 00  Quarter 33 ...            NaN  212433   \n",
       "3  Section 24 Township 21 Range 00 Quarter 33 : 2...            NaN  212433   \n",
       "4  Section 24 Township 21 Range 00 Quarter 33 : 2...            NaN  212433   \n",
       "\n",
       "   X_Coordinate Y_Coordinate  Longitude  Latitude    MapLegend    Shape__Area  \\\n",
       "0  1.081288e+06  721057.9755 -122.75325  47.28867  Base Parcel   38758.018311   \n",
       "1  1.080163e+06  720458.5894 -122.75771  47.28694  Base Parcel  345604.122986   \n",
       "2  1.081042e+06  720375.4829 -122.75416  47.28678  Base Parcel  133528.313354   \n",
       "3  1.080063e+06  720851.0629 -122.75815  47.28801  Base Parcel   60097.457336   \n",
       "4  1.080827e+06  720849.5547 -122.75508  47.28806  Base Parcel  122531.592957   \n",
       "\n",
       "   Shape__Length  \n",
       "0    1141.837123  \n",
       "1    3638.028072  \n",
       "2    2089.154656  \n",
       "3    1243.548915  \n",
       "4    2293.364640  \n",
       "\n",
       "[5 rows x 35 columns]"
      ]
     },
     "execution_count": 4,
     "metadata": {},
     "output_type": "execute_result"
    }
   ],
   "source": [
    "df =pd.read_csv('../data/Tax_Parcels.csv')\n",
    "df.head()"
   ]
  },
  {
   "cell_type": "code",
   "execution_count": 5,
   "metadata": {},
   "outputs": [],
   "source": [
    "lat_long =pd.DataFrame()"
   ]
  },
  {
   "cell_type": "code",
   "execution_count": 6,
   "metadata": {},
   "outputs": [],
   "source": [
    "lat_long['latitude'] =df['Latitude']"
   ]
  },
  {
   "cell_type": "code",
   "execution_count": 7,
   "metadata": {},
   "outputs": [],
   "source": [
    "lat_long['longitude'] =df['Longitude']"
   ]
  },
  {
   "cell_type": "code",
   "execution_count": 8,
   "metadata": {},
   "outputs": [
    {
     "data": {
      "text/html": [
       "<div>\n",
       "<style scoped>\n",
       "    .dataframe tbody tr th:only-of-type {\n",
       "        vertical-align: middle;\n",
       "    }\n",
       "\n",
       "    .dataframe tbody tr th {\n",
       "        vertical-align: top;\n",
       "    }\n",
       "\n",
       "    .dataframe thead th {\n",
       "        text-align: right;\n",
       "    }\n",
       "</style>\n",
       "<table border=\"1\" class=\"dataframe\">\n",
       "  <thead>\n",
       "    <tr style=\"text-align: right;\">\n",
       "      <th></th>\n",
       "      <th>latitude</th>\n",
       "      <th>longitude</th>\n",
       "    </tr>\n",
       "  </thead>\n",
       "  <tbody>\n",
       "    <tr>\n",
       "      <th>0</th>\n",
       "      <td>47.28867</td>\n",
       "      <td>-122.75325</td>\n",
       "    </tr>\n",
       "    <tr>\n",
       "      <th>1</th>\n",
       "      <td>47.28694</td>\n",
       "      <td>-122.75771</td>\n",
       "    </tr>\n",
       "    <tr>\n",
       "      <th>2</th>\n",
       "      <td>47.28678</td>\n",
       "      <td>-122.75416</td>\n",
       "    </tr>\n",
       "    <tr>\n",
       "      <th>3</th>\n",
       "      <td>47.28801</td>\n",
       "      <td>-122.75815</td>\n",
       "    </tr>\n",
       "    <tr>\n",
       "      <th>4</th>\n",
       "      <td>47.28806</td>\n",
       "      <td>-122.75508</td>\n",
       "    </tr>\n",
       "  </tbody>\n",
       "</table>\n",
       "</div>"
      ],
      "text/plain": [
       "   latitude  longitude\n",
       "0  47.28867 -122.75325\n",
       "1  47.28694 -122.75771\n",
       "2  47.28678 -122.75416\n",
       "3  47.28801 -122.75815\n",
       "4  47.28806 -122.75508"
      ]
     },
     "execution_count": 8,
     "metadata": {},
     "output_type": "execute_result"
    }
   ],
   "source": [
    "lat_long.head()"
   ]
  },
  {
   "cell_type": "code",
   "execution_count": 9,
   "metadata": {},
   "outputs": [
    {
     "data": {
      "text/plain": [
       "(327319, 2)"
      ]
     },
     "execution_count": 9,
     "metadata": {},
     "output_type": "execute_result"
    }
   ],
   "source": [
    "lat_long.shape"
   ]
  },
  {
   "cell_type": "code",
   "execution_count": 36,
   "metadata": {},
   "outputs": [],
   "source": [
    "lat_long.to_csv('../data/latlong.csv', index=False)"
   ]
  },
  {
   "cell_type": "markdown",
   "metadata": {},
   "source": [
    "# Pyro-flow zone coordinates\n",
    "Read in the coordinates within the pyroclastic flow zone to check the shape and mark the rows."
   ]
  },
  {
   "cell_type": "code",
   "execution_count": 10,
   "metadata": {},
   "outputs": [],
   "source": [
    "danger =pd.read_csv('../data/danger_parcels.csv')"
   ]
  },
  {
   "cell_type": "code",
   "execution_count": 11,
   "metadata": {},
   "outputs": [
    {
     "data": {
      "text/html": [
       "<div>\n",
       "<style scoped>\n",
       "    .dataframe tbody tr th:only-of-type {\n",
       "        vertical-align: middle;\n",
       "    }\n",
       "\n",
       "    .dataframe tbody tr th {\n",
       "        vertical-align: top;\n",
       "    }\n",
       "\n",
       "    .dataframe thead th {\n",
       "        text-align: right;\n",
       "    }\n",
       "</style>\n",
       "<table border=\"1\" class=\"dataframe\">\n",
       "  <thead>\n",
       "    <tr style=\"text-align: right;\">\n",
       "      <th></th>\n",
       "      <th>OBJECTID</th>\n",
       "      <th>CASE_1</th>\n",
       "      <th>CASE_2</th>\n",
       "      <th>CASE_3</th>\n",
       "      <th>SYMBOL</th>\n",
       "      <th>TIME_ZONE</th>\n",
       "      <th>latitude</th>\n",
       "      <th>longitude</th>\n",
       "    </tr>\n",
       "  </thead>\n",
       "  <tbody>\n",
       "    <tr>\n",
       "      <th>0</th>\n",
       "      <td>53</td>\n",
       "      <td>Y</td>\n",
       "      <td>NaN</td>\n",
       "      <td>NaN</td>\n",
       "      <td>1</td>\n",
       "      <td>D</td>\n",
       "      <td>47.08061</td>\n",
       "      <td>-122.68482</td>\n",
       "    </tr>\n",
       "    <tr>\n",
       "      <th>1</th>\n",
       "      <td>53</td>\n",
       "      <td>Y</td>\n",
       "      <td>NaN</td>\n",
       "      <td>NaN</td>\n",
       "      <td>1</td>\n",
       "      <td>D</td>\n",
       "      <td>47.08191</td>\n",
       "      <td>-122.69244</td>\n",
       "    </tr>\n",
       "    <tr>\n",
       "      <th>2</th>\n",
       "      <td>53</td>\n",
       "      <td>Y</td>\n",
       "      <td>NaN</td>\n",
       "      <td>NaN</td>\n",
       "      <td>1</td>\n",
       "      <td>D</td>\n",
       "      <td>47.08182</td>\n",
       "      <td>-122.68759</td>\n",
       "    </tr>\n",
       "    <tr>\n",
       "      <th>3</th>\n",
       "      <td>53</td>\n",
       "      <td>Y</td>\n",
       "      <td>NaN</td>\n",
       "      <td>NaN</td>\n",
       "      <td>1</td>\n",
       "      <td>D</td>\n",
       "      <td>47.08015</td>\n",
       "      <td>-122.69965</td>\n",
       "    </tr>\n",
       "    <tr>\n",
       "      <th>4</th>\n",
       "      <td>53</td>\n",
       "      <td>Y</td>\n",
       "      <td>NaN</td>\n",
       "      <td>NaN</td>\n",
       "      <td>1</td>\n",
       "      <td>D</td>\n",
       "      <td>47.07836</td>\n",
       "      <td>-122.70014</td>\n",
       "    </tr>\n",
       "  </tbody>\n",
       "</table>\n",
       "</div>"
      ],
      "text/plain": [
       "   OBJECTID CASE_1 CASE_2 CASE_3  SYMBOL TIME_ZONE  latitude  longitude\n",
       "0        53      Y    NaN    NaN       1         D  47.08061 -122.68482\n",
       "1        53      Y    NaN    NaN       1         D  47.08191 -122.69244\n",
       "2        53      Y    NaN    NaN       1         D  47.08182 -122.68759\n",
       "3        53      Y    NaN    NaN       1         D  47.08015 -122.69965\n",
       "4        53      Y    NaN    NaN       1         D  47.07836 -122.70014"
      ]
     },
     "execution_count": 11,
     "metadata": {},
     "output_type": "execute_result"
    }
   ],
   "source": [
    "danger.head()"
   ]
  },
  {
   "cell_type": "code",
   "execution_count": 12,
   "metadata": {},
   "outputs": [
    {
     "data": {
      "text/plain": [
       "(28952, 8)"
      ]
     },
     "execution_count": 12,
     "metadata": {},
     "output_type": "execute_result"
    }
   ],
   "source": [
    "danger.shape"
   ]
  },
  {
   "cell_type": "code",
   "execution_count": 13,
   "metadata": {},
   "outputs": [],
   "source": [
    "import matplotlib.pyplot as plt"
   ]
  },
  {
   "cell_type": "code",
   "execution_count": 24,
   "metadata": {},
   "outputs": [
    {
     "data": {
      "image/png": "[encoded data removed]",
      "text/plain": [
       "<Figure size 936x936 with 1 Axes>"
      ]
     },
     "metadata": {
      "needs_background": "light"
     },
     "output_type": "display_data"
    }
   ],
   "source": [
    "#check the shape of the lat/long to make sure the layer join worked.\n",
    "plt.figure(figsize=(13, 13))\n",
    "plt.scatter(danger['latitude'], danger['longitude'], c='w', edgecolor ='c');"
   ]
  },
  {
   "cell_type": "code",
   "execution_count": 15,
   "metadata": {},
   "outputs": [],
   "source": [
    "danger['is_threatened'] = True"
   ]
  },
  {
   "cell_type": "code",
   "execution_count": 16,
   "metadata": {},
   "outputs": [
    {
     "data": {
      "text/html": [
       "<div>\n",
       "<style scoped>\n",
       "    .dataframe tbody tr th:only-of-type {\n",
       "        vertical-align: middle;\n",
       "    }\n",
       "\n",
       "    .dataframe tbody tr th {\n",
       "        vertical-align: top;\n",
       "    }\n",
       "\n",
       "    .dataframe thead th {\n",
       "        text-align: right;\n",
       "    }\n",
       "</style>\n",
       "<table border=\"1\" class=\"dataframe\">\n",
       "  <thead>\n",
       "    <tr style=\"text-align: right;\">\n",
       "      <th></th>\n",
       "      <th>OBJECTID</th>\n",
       "      <th>CASE_1</th>\n",
       "      <th>CASE_2</th>\n",
       "      <th>CASE_3</th>\n",
       "      <th>SYMBOL</th>\n",
       "      <th>TIME_ZONE</th>\n",
       "      <th>latitude</th>\n",
       "      <th>longitude</th>\n",
       "      <th>is_threatened</th>\n",
       "    </tr>\n",
       "  </thead>\n",
       "  <tbody>\n",
       "    <tr>\n",
       "      <th>0</th>\n",
       "      <td>53</td>\n",
       "      <td>Y</td>\n",
       "      <td>NaN</td>\n",
       "      <td>NaN</td>\n",
       "      <td>1</td>\n",
       "      <td>D</td>\n",
       "      <td>47.08061</td>\n",
       "      <td>-122.68482</td>\n",
       "      <td>True</td>\n",
       "    </tr>\n",
       "    <tr>\n",
       "      <th>1</th>\n",
       "      <td>53</td>\n",
       "      <td>Y</td>\n",
       "      <td>NaN</td>\n",
       "      <td>NaN</td>\n",
       "      <td>1</td>\n",
       "      <td>D</td>\n",
       "      <td>47.08191</td>\n",
       "      <td>-122.69244</td>\n",
       "      <td>True</td>\n",
       "    </tr>\n",
       "  </tbody>\n",
       "</table>\n",
       "</div>"
      ],
      "text/plain": [
       "   OBJECTID CASE_1 CASE_2 CASE_3  SYMBOL TIME_ZONE  latitude  longitude  \\\n",
       "0        53      Y    NaN    NaN       1         D  47.08061 -122.68482   \n",
       "1        53      Y    NaN    NaN       1         D  47.08191 -122.69244   \n",
       "\n",
       "   is_threatened  \n",
       "0           True  \n",
       "1           True  "
      ]
     },
     "execution_count": 16,
     "metadata": {},
     "output_type": "execute_result"
    }
   ],
   "source": [
    "danger.head(2)"
   ]
  },
  {
   "cell_type": "code",
   "execution_count": 52,
   "metadata": {},
   "outputs": [
    {
     "data": {
      "text/plain": [
       "(28952, 9)"
      ]
     },
     "execution_count": 52,
     "metadata": {},
     "output_type": "execute_result"
    }
   ],
   "source": [
    "danger.shape"
   ]
  },
  {
   "cell_type": "code",
   "execution_count": 44,
   "metadata": {},
   "outputs": [
    {
     "data": {
      "text/html": [
       "<div>\n",
       "<style scoped>\n",
       "    .dataframe tbody tr th:only-of-type {\n",
       "        vertical-align: middle;\n",
       "    }\n",
       "\n",
       "    .dataframe tbody tr th {\n",
       "        vertical-align: top;\n",
       "    }\n",
       "\n",
       "    .dataframe thead th {\n",
       "        text-align: right;\n",
       "    }\n",
       "</style>\n",
       "<table border=\"1\" class=\"dataframe\">\n",
       "  <thead>\n",
       "    <tr style=\"text-align: right;\">\n",
       "      <th></th>\n",
       "      <th>OBJECTID</th>\n",
       "      <th>CASE_1</th>\n",
       "      <th>CASE_2</th>\n",
       "      <th>CASE_3</th>\n",
       "      <th>SYMBOL</th>\n",
       "      <th>TIME_ZONE</th>\n",
       "      <th>Latitude</th>\n",
       "      <th>Longitude</th>\n",
       "      <th>is_threatened</th>\n",
       "    </tr>\n",
       "  </thead>\n",
       "  <tbody>\n",
       "    <tr>\n",
       "      <th>0</th>\n",
       "      <td>53</td>\n",
       "      <td>Y</td>\n",
       "      <td>NaN</td>\n",
       "      <td>NaN</td>\n",
       "      <td>1</td>\n",
       "      <td>D</td>\n",
       "      <td>47.08061</td>\n",
       "      <td>-122.68482</td>\n",
       "      <td>True</td>\n",
       "    </tr>\n",
       "    <tr>\n",
       "      <th>1</th>\n",
       "      <td>53</td>\n",
       "      <td>Y</td>\n",
       "      <td>NaN</td>\n",
       "      <td>NaN</td>\n",
       "      <td>1</td>\n",
       "      <td>D</td>\n",
       "      <td>47.08191</td>\n",
       "      <td>-122.69244</td>\n",
       "      <td>True</td>\n",
       "    </tr>\n",
       "  </tbody>\n",
       "</table>\n",
       "</div>"
      ],
      "text/plain": [
       "   OBJECTID CASE_1 CASE_2 CASE_3  SYMBOL TIME_ZONE  Latitude  Longitude  \\\n",
       "0        53      Y    NaN    NaN       1         D  47.08061 -122.68482   \n",
       "1        53      Y    NaN    NaN       1         D  47.08191 -122.69244   \n",
       "\n",
       "   is_threatened  \n",
       "0           True  \n",
       "1           True  "
      ]
     },
     "execution_count": 44,
     "metadata": {},
     "output_type": "execute_result"
    }
   ],
   "source": [
    "#rename to make column names identical for future merging\n",
    "danger =danger.rename(columns={'latitude':'Latitude',\n",
    "                      'longitude':'Longitude'})\n",
    "danger.head(2)"
   ]
  },
  {
   "cell_type": "code",
   "execution_count": 91,
   "metadata": {},
   "outputs": [
    {
     "data": {
      "text/plain": [
       "1.0    28928\n",
       "0.0       24\n",
       "Name: CASE_1, dtype: int64"
      ]
     },
     "execution_count": 91,
     "metadata": {},
     "output_type": "execute_result"
    }
   ],
   "source": [
    "danger.CASE_1.value_counts()"
   ]
  },
  {
   "cell_type": "code",
   "execution_count": 77,
   "metadata": {},
   "outputs": [],
   "source": [
    "danger['CASE_1'] =danger['CASE_1'].map({'Y': 1})"
   ]
  },
  {
   "cell_type": "code",
   "execution_count": 92,
   "metadata": {},
   "outputs": [
    {
     "data": {
      "text/plain": [
       "Series([], Name: CASE_2, dtype: int64)"
      ]
     },
     "execution_count": 92,
     "metadata": {},
     "output_type": "execute_result"
    }
   ],
   "source": [
    "danger.CASE_2.value_counts()"
   ]
  },
  {
   "cell_type": "code",
   "execution_count": 82,
   "metadata": {},
   "outputs": [],
   "source": [
    "danger['CASE_2'] =danger['CASE_2'].map({'Y': 1})"
   ]
  },
  {
   "cell_type": "code",
   "execution_count": 93,
   "metadata": {},
   "outputs": [
    {
     "data": {
      "text/plain": [
       "1.0    12\n",
       "Name: CASE_3, dtype: int64"
      ]
     },
     "execution_count": 93,
     "metadata": {},
     "output_type": "execute_result"
    }
   ],
   "source": [
    "danger.CASE_3.value_counts()"
   ]
  },
  {
   "cell_type": "code",
   "execution_count": 81,
   "metadata": {},
   "outputs": [],
   "source": [
    "danger['CASE_3'] =danger['CASE_3'].map({'Y': 1})"
   ]
  },
  {
   "cell_type": "code",
   "execution_count": 98,
   "metadata": {},
   "outputs": [
    {
     "data": {
      "text/plain": [
       "OBJECTID          0\n",
       "CASE_1            0\n",
       "CASE_2            0\n",
       "CASE_3            0\n",
       "SYMBOL            0\n",
       "TIME_ZONE        49\n",
       "Latitude         23\n",
       "Longitude        23\n",
       "is_threatened     0\n",
       "dtype: int64"
      ]
     },
     "execution_count": 98,
     "metadata": {},
     "output_type": "execute_result"
    }
   ],
   "source": [
    "danger.isna().sum()"
   ]
  },
  {
   "cell_type": "code",
   "execution_count": 84,
   "metadata": {},
   "outputs": [],
   "source": [
    "danger['CASE_1'].fillna(value =0, inplace=True)"
   ]
  },
  {
   "cell_type": "code",
   "execution_count": 96,
   "metadata": {},
   "outputs": [],
   "source": [
    "danger['CASE_2'].fillna(value=0, inplace=True)"
   ]
  },
  {
   "cell_type": "code",
   "execution_count": 97,
   "metadata": {},
   "outputs": [],
   "source": [
    "danger['CASE_3'].fillna(value=0, inplace=True)"
   ]
  },
  {
   "cell_type": "code",
   "execution_count": 95,
   "metadata": {},
   "outputs": [
    {
     "data": {
      "text/plain": [
       "1.0    28928\n",
       "0.0       24\n",
       "Name: CASE_1, dtype: int64"
      ]
     },
     "execution_count": 95,
     "metadata": {},
     "output_type": "execute_result"
    }
   ],
   "source": [
    "danger['CASE_1'].value_counts()"
   ]
  },
  {
   "cell_type": "code",
   "execution_count": 101,
   "metadata": {},
   "outputs": [],
   "source": [
    "#drop column time zone\n",
    "danger.drop(columns=['TIME_ZONE', 'SYMBOL', 'OBJECTID'], inplace=True)"
   ]
  },
  {
   "cell_type": "code",
   "execution_count": 103,
   "metadata": {},
   "outputs": [],
   "source": [
    "#drop remaining null rows\n",
    "danger.dropna(inplace=True)"
   ]
  },
  {
   "cell_type": "code",
   "execution_count": 104,
   "metadata": {},
   "outputs": [
    {
     "data": {
      "text/plain": [
       "(28929, 6)"
      ]
     },
     "execution_count": 104,
     "metadata": {},
     "output_type": "execute_result"
    }
   ],
   "source": [
    "danger.shape"
   ]
  },
  {
   "cell_type": "code",
   "execution_count": 116,
   "metadata": {},
   "outputs": [
    {
     "data": {
      "text/plain": [
       "True    28929\n",
       "Name: is_threatened, dtype: int64"
      ]
     },
     "execution_count": 116,
     "metadata": {},
     "output_type": "execute_result"
    }
   ],
   "source": [
    "danger.is_threatened.value_counts()"
   ]
  },
  {
   "cell_type": "markdown",
   "metadata": {},
   "source": [
    "# Merge dfs"
   ]
  },
  {
   "cell_type": "code",
   "execution_count": 72,
   "metadata": {},
   "outputs": [],
   "source": [
    "#import clean df\n",
    "clean =pd.read_csv('../data/Tax_Parcels_Trimmed.csv')"
   ]
  },
  {
   "cell_type": "code",
   "execution_count": 73,
   "metadata": {},
   "outputs": [
    {
     "data": {
      "text/plain": [
       "(327319, 20)"
      ]
     },
     "execution_count": 73,
     "metadata": {},
     "output_type": "execute_result"
    }
   ],
   "source": [
    "clean.shape"
   ]
  },
  {
   "cell_type": "code",
   "execution_count": 127,
   "metadata": {},
   "outputs": [
    {
     "data": {
      "text/html": [
       "<div>\n",
       "<style scoped>\n",
       "    .dataframe tbody tr th:only-of-type {\n",
       "        vertical-align: middle;\n",
       "    }\n",
       "\n",
       "    .dataframe tbody tr th {\n",
       "        vertical-align: top;\n",
       "    }\n",
       "\n",
       "    .dataframe thead th {\n",
       "        text-align: right;\n",
       "    }\n",
       "</style>\n",
       "<table border=\"1\" class=\"dataframe\">\n",
       "  <thead>\n",
       "    <tr style=\"text-align: right;\">\n",
       "      <th></th>\n",
       "      <th>TaxParcelNumber</th>\n",
       "      <th>TaxParcelType</th>\n",
       "      <th>TaxParcelUnitType</th>\n",
       "      <th>EditDate</th>\n",
       "      <th>Delivery_Address</th>\n",
       "      <th>City_State</th>\n",
       "      <th>Zipcode</th>\n",
       "      <th>Site_Address</th>\n",
       "      <th>Land_Acres</th>\n",
       "      <th>Land_Value</th>\n",
       "      <th>...</th>\n",
       "      <th>X_Coordinate</th>\n",
       "      <th>Y_Coordinate</th>\n",
       "      <th>Longitude</th>\n",
       "      <th>Latitude</th>\n",
       "      <th>Shape__Area</th>\n",
       "      <th>Shape__Length</th>\n",
       "      <th>CASE_1</th>\n",
       "      <th>CASE_2</th>\n",
       "      <th>CASE_3</th>\n",
       "      <th>is_threatened</th>\n",
       "    </tr>\n",
       "  </thead>\n",
       "  <tbody>\n",
       "    <tr>\n",
       "      <th>0</th>\n",
       "      <td>21247005</td>\n",
       "      <td>Base Parcel</td>\n",
       "      <td></td>\n",
       "      <td>1998-07-24T00:00:00.000Z</td>\n",
       "      <td>UNKNOWN PARTY ADDRESS</td>\n",
       "      <td>UNKNOWN CITY, WA</td>\n",
       "      <td>NaN</td>\n",
       "      <td>XXX 34TH STCT NW</td>\n",
       "      <td>0.0000</td>\n",
       "      <td>0</td>\n",
       "      <td>...</td>\n",
       "      <td>1.081288e+06</td>\n",
       "      <td>721057.9755</td>\n",
       "      <td>-122.75325</td>\n",
       "      <td>47.28867</td>\n",
       "      <td>38758.018311</td>\n",
       "      <td>1141.837123</td>\n",
       "      <td>NaN</td>\n",
       "      <td>NaN</td>\n",
       "      <td>NaN</td>\n",
       "      <td>NaN</td>\n",
       "    </tr>\n",
       "    <tr>\n",
       "      <th>1</th>\n",
       "      <td>21247006</td>\n",
       "      <td>Base Parcel</td>\n",
       "      <td>NaN</td>\n",
       "      <td>2014-11-26T12:23:33.000Z</td>\n",
       "      <td>3211 MCEWAN ROAD NW</td>\n",
       "      <td>LAKEBAY, WA</td>\n",
       "      <td>98349</td>\n",
       "      <td>3211 MCEWAN RD NW</td>\n",
       "      <td>7.6300</td>\n",
       "      <td>364000</td>\n",
       "      <td>...</td>\n",
       "      <td>1.080163e+06</td>\n",
       "      <td>720458.5894</td>\n",
       "      <td>-122.75771</td>\n",
       "      <td>47.28694</td>\n",
       "      <td>345604.122986</td>\n",
       "      <td>3638.028072</td>\n",
       "      <td>NaN</td>\n",
       "      <td>NaN</td>\n",
       "      <td>NaN</td>\n",
       "      <td>NaN</td>\n",
       "    </tr>\n",
       "    <tr>\n",
       "      <th>2</th>\n",
       "      <td>21247007</td>\n",
       "      <td>Base Parcel</td>\n",
       "      <td></td>\n",
       "      <td>2014-11-26T12:23:33.000Z</td>\n",
       "      <td>3211 MCEWAN ROAD NW</td>\n",
       "      <td>LAKEBAY, WA</td>\n",
       "      <td>98349</td>\n",
       "      <td>3209 MCEWAN RD NW</td>\n",
       "      <td>2.8700</td>\n",
       "      <td>251400</td>\n",
       "      <td>...</td>\n",
       "      <td>1.081042e+06</td>\n",
       "      <td>720375.4829</td>\n",
       "      <td>-122.75416</td>\n",
       "      <td>47.28678</td>\n",
       "      <td>133528.313354</td>\n",
       "      <td>2089.154656</td>\n",
       "      <td>NaN</td>\n",
       "      <td>NaN</td>\n",
       "      <td>NaN</td>\n",
       "      <td>NaN</td>\n",
       "    </tr>\n",
       "    <tr>\n",
       "      <th>3</th>\n",
       "      <td>21247700</td>\n",
       "      <td>Base Parcel</td>\n",
       "      <td></td>\n",
       "      <td>1996-01-23T00:00:00.000Z</td>\n",
       "      <td>PO BOX 670</td>\n",
       "      <td>LAKEBAY, WA</td>\n",
       "      <td>98349-0670</td>\n",
       "      <td>XXX Undetermined Situs</td>\n",
       "      <td>1.3174</td>\n",
       "      <td>33900</td>\n",
       "      <td>...</td>\n",
       "      <td>1.080063e+06</td>\n",
       "      <td>720851.0629</td>\n",
       "      <td>-122.75815</td>\n",
       "      <td>47.28801</td>\n",
       "      <td>60097.457336</td>\n",
       "      <td>1243.548915</td>\n",
       "      <td>NaN</td>\n",
       "      <td>NaN</td>\n",
       "      <td>NaN</td>\n",
       "      <td>NaN</td>\n",
       "    </tr>\n",
       "    <tr>\n",
       "      <th>4</th>\n",
       "      <td>21247701</td>\n",
       "      <td>Base Parcel</td>\n",
       "      <td></td>\n",
       "      <td>1996-01-23T00:00:00.000Z</td>\n",
       "      <td>PO BOX 670</td>\n",
       "      <td>LAKEBAY, WA</td>\n",
       "      <td>98349-0670</td>\n",
       "      <td>16407 33RD STCT NW</td>\n",
       "      <td>2.7100</td>\n",
       "      <td>251200</td>\n",
       "      <td>...</td>\n",
       "      <td>1.080827e+06</td>\n",
       "      <td>720849.5547</td>\n",
       "      <td>-122.75508</td>\n",
       "      <td>47.28806</td>\n",
       "      <td>122531.592957</td>\n",
       "      <td>2293.364640</td>\n",
       "      <td>NaN</td>\n",
       "      <td>NaN</td>\n",
       "      <td>NaN</td>\n",
       "      <td>NaN</td>\n",
       "    </tr>\n",
       "  </tbody>\n",
       "</table>\n",
       "<p>5 rows × 24 columns</p>\n",
       "</div>"
      ],
      "text/plain": [
       "   TaxParcelNumber TaxParcelType TaxParcelUnitType                  EditDate  \\\n",
       "0         21247005   Base Parcel                    1998-07-24T00:00:00.000Z   \n",
       "1         21247006   Base Parcel               NaN  2014-11-26T12:23:33.000Z   \n",
       "2         21247007   Base Parcel                    2014-11-26T12:23:33.000Z   \n",
       "3         21247700   Base Parcel                    1996-01-23T00:00:00.000Z   \n",
       "4         21247701   Base Parcel                    1996-01-23T00:00:00.000Z   \n",
       "\n",
       "        Delivery_Address        City_State     Zipcode  \\\n",
       "0  UNKNOWN PARTY ADDRESS  UNKNOWN CITY, WA         NaN   \n",
       "1    3211 MCEWAN ROAD NW       LAKEBAY, WA       98349   \n",
       "2    3211 MCEWAN ROAD NW       LAKEBAY, WA       98349   \n",
       "3             PO BOX 670       LAKEBAY, WA  98349-0670   \n",
       "4             PO BOX 670       LAKEBAY, WA  98349-0670   \n",
       "\n",
       "             Site_Address  Land_Acres  Land_Value  ...  X_Coordinate  \\\n",
       "0        XXX 34TH STCT NW      0.0000           0  ...  1.081288e+06   \n",
       "1       3211 MCEWAN RD NW      7.6300      364000  ...  1.080163e+06   \n",
       "2       3209 MCEWAN RD NW      2.8700      251400  ...  1.081042e+06   \n",
       "3  XXX Undetermined Situs      1.3174       33900  ...  1.080063e+06   \n",
       "4      16407 33RD STCT NW      2.7100      251200  ...  1.080827e+06   \n",
       "\n",
       "   Y_Coordinate  Longitude  Latitude    Shape__Area  Shape__Length  CASE_1  \\\n",
       "0   721057.9755 -122.75325  47.28867   38758.018311    1141.837123     NaN   \n",
       "1   720458.5894 -122.75771  47.28694  345604.122986    3638.028072     NaN   \n",
       "2   720375.4829 -122.75416  47.28678  133528.313354    2089.154656     NaN   \n",
       "3   720851.0629 -122.75815  47.28801   60097.457336    1243.548915     NaN   \n",
       "4   720849.5547 -122.75508  47.28806  122531.592957    2293.364640     NaN   \n",
       "\n",
       "   CASE_2  CASE_3  is_threatened  \n",
       "0     NaN     NaN            NaN  \n",
       "1     NaN     NaN            NaN  \n",
       "2     NaN     NaN            NaN  \n",
       "3     NaN     NaN            NaN  \n",
       "4     NaN     NaN            NaN  \n",
       "\n",
       "[5 rows x 24 columns]"
      ]
     },
     "execution_count": 127,
     "metadata": {},
     "output_type": "execute_result"
    }
   ],
   "source": [
    "#merge imported cleaned df and the cleaned 'threatened'df\n",
    "threat =pd.merge(clean, danger, how='left', on=['Longitude', 'Latitude'])\n",
    "threat.head()"
   ]
  },
  {
   "cell_type": "code",
   "execution_count": 128,
   "metadata": {},
   "outputs": [
    {
     "data": {
      "text/plain": [
       "(327659, 24)"
      ]
     },
     "execution_count": 128,
     "metadata": {},
     "output_type": "execute_result"
    }
   ],
   "source": [
    "threat.shape"
   ]
  },
  {
   "cell_type": "code",
   "execution_count": 129,
   "metadata": {},
   "outputs": [
    {
     "data": {
      "text/plain": [
       "True    15345\n",
       "Name: is_threatened, dtype: int64"
      ]
     },
     "execution_count": 129,
     "metadata": {},
     "output_type": "execute_result"
    }
   ],
   "source": [
    "#for some reason drops ~15,000 rows.\n",
    "threat['is_threatened'].value_counts()"
   ]
  },
  {
   "cell_type": "code",
   "execution_count": 108,
   "metadata": {},
   "outputs": [
    {
     "data": {
      "text/plain": [
       "312314"
      ]
     },
     "execution_count": 108,
     "metadata": {},
     "output_type": "execute_result"
    }
   ],
   "source": [
    "threat['is_threatened'].isna().sum()"
   ]
  },
  {
   "cell_type": "code",
   "execution_count": 155,
   "metadata": {},
   "outputs": [],
   "source": [
    "#export merged dataframe\n",
    "threat.to_csv('../data/danger_tax_robinson.csv', index=False)"
   ]
  },
  {
   "cell_type": "markdown",
   "metadata": {},
   "source": [
    "# EDA"
   ]
  },
  {
   "cell_type": "code",
   "execution_count": 132,
   "metadata": {},
   "outputs": [],
   "source": [
    "data =pd.read_csv('../data/danger_tax_robinson.csv')"
   ]
  },
  {
   "cell_type": "code",
   "execution_count": 135,
   "metadata": {},
   "outputs": [
    {
     "data": {
      "text/plain": [
       "True    15345\n",
       "Name: is_threatened, dtype: int64"
      ]
     },
     "execution_count": 135,
     "metadata": {},
     "output_type": "execute_result"
    }
   ],
   "source": [
    "#mask is_threatened to check\n",
    "data['is_threatened'].value_counts()"
   ]
  },
  {
   "cell_type": "code",
   "execution_count": 140,
   "metadata": {},
   "outputs": [],
   "source": [
    "allthreat = data[data['is_threatened'] ==True]"
   ]
  },
  {
   "cell_type": "code",
   "execution_count": 141,
   "metadata": {},
   "outputs": [
    {
     "data": {
      "text/plain": [
       "(15345, 24)"
      ]
     },
     "execution_count": 141,
     "metadata": {},
     "output_type": "execute_result"
    }
   ],
   "source": [
    "allthreat.shape"
   ]
  },
  {
   "cell_type": "code",
   "execution_count": 130,
   "metadata": {},
   "outputs": [],
   "source": [
    "#replot the threatened observation to see why we lost some.\n",
    "#plt.figure(figsize=(13, 13))\n",
    "#plt.scatter(threat['Latitude'], threat['Longitude'], c='w', edgecolor ='c')\n",
    "#plt.title('Latitude v Longitude');"
   ]
  },
  {
   "cell_type": "code",
   "execution_count": 142,
   "metadata": {},
   "outputs": [
    {
     "data": {
      "image/png": "[encoded data removed]",
      "text/plain": [
       "<Figure size 720x720 with 1 Axes>"
      ]
     },
     "metadata": {
      "needs_background": "light"
     },
     "output_type": "display_data"
    }
   ],
   "source": [
    "plt.figure(figsize=(10, 10))\n",
    "plt.scatter(allthreat['Latitude'], allthreat['Longitude'], c='w', edgecolor ='r')\n",
    "plt.title('Latitude v Longitude');"
   ]
  },
  {
   "cell_type": "code",
   "execution_count": 147,
   "metadata": {},
   "outputs": [
    {
     "data": {
      "text/plain": [
       "(15331, 24)"
      ]
     },
     "execution_count": 147,
     "metadata": {},
     "output_type": "execute_result"
    }
   ],
   "source": [
    "#mask case 1 to plot\n",
    "case1 = data[data['CASE_1'] ==True]\n",
    "case1.shape"
   ]
  },
  {
   "cell_type": "code",
   "execution_count": 146,
   "metadata": {},
   "outputs": [
    {
     "data": {
      "image/png": "[encoded data removed]",
      "text/plain": [
       "<Figure size 720x720 with 1 Axes>"
      ]
     },
     "metadata": {
      "needs_background": "light"
     },
     "output_type": "display_data"
    }
   ],
   "source": [
    "#try plotting the cases to visualize\n",
    "plt.figure(figsize=(10, 10))\n",
    "plt.scatter(case1['Latitude'], case1['Longitude'], c='w', edgecolor ='y')\n",
    "plt.title('Latitude v Longitude');"
   ]
  },
  {
   "cell_type": "code",
   "execution_count": 151,
   "metadata": {},
   "outputs": [
    {
     "data": {
      "text/plain": [
       "(2, 24)"
      ]
     },
     "execution_count": 151,
     "metadata": {},
     "output_type": "execute_result"
    }
   ],
   "source": [
    "#case 1 is the only one with information\n",
    "#mask case 1 to plot\n",
    "case3 = data[data['CASE_3'] ==True]\n",
    "case3.shape"
   ]
  },
  {
   "cell_type": "code",
   "execution_count": 154,
   "metadata": {},
   "outputs": [],
   "source": [
    "#plt.figure(figsize=(10, 10))\n",
    "#plt.scatter(case3['Latitude'], case3['Longitude'], c='w', edgecolor ='yk')\n",
    "#plt.title('Latitude v Longitude');"
   ]
  },
  {
   "cell_type": "code",
   "execution_count": null,
   "metadata": {},
   "outputs": [],
   "source": []
  }
 ],
 "metadata": {
  "kernelspec": {
   "display_name": "Python 3",
   "language": "python",
   "name": "python3"
  },
  "language_info": {
   "codemirror_mode": {
    "name": "ipython",
    "version": 3
   },
   "file_extension": ".py",
   "mimetype": "text/x-python",
   "name": "python",
   "nbconvert_exporter": "python",
   "pygments_lexer": "ipython3",
   "version": "3.6.8"
  }
 },
 "nbformat": 4,
 "nbformat_minor": 2
}
