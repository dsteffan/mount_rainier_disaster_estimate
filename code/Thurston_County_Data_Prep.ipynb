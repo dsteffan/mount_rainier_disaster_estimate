{
 "cells": [
  {
   "cell_type": "markdown",
   "metadata": {},
   "source": [
    "## Thurston County Data Clean and Prep\n",
    "\n",
    "This notebook reads in an MS Access database table downloaded from Thurston County and outputs a .csv file for later use.\n",
    "\n",
    "The lattitude and longitude are added vai geocoding."
   ]
  },
  {
   "cell_type": "code",
   "execution_count": null,
   "metadata": {},
   "outputs": [],
   "source": [
    "# Libraries\n",
    "\n",
    "import pandas as pd\n",
    "import pandas_access as mdb\n",
    "import time\n",
    "from geopy.geocoders import Nominatim"
   ]
  },
  {
   "cell_type": "code",
   "execution_count": null,
   "metadata": {},
   "outputs": [],
   "source": [
    "# Read the apt table from the apt access database\n",
    "\n",
    "apt_df = mdb.read_table('../data/apt.mdb', \"apt\")"
   ]
  },
  {
   "cell_type": "code",
   "execution_count": null,
   "metadata": {},
   "outputs": [],
   "source": [
    "apt_df.shape"
   ]
  },
  {
   "cell_type": "code",
   "execution_count": null,
   "metadata": {},
   "outputs": [],
   "source": [
    "apt_df.head()"
   ]
  },
  {
   "cell_type": "code",
   "execution_count": null,
   "metadata": {},
   "outputs": [],
   "source": [
    "apt_df.columns"
   ]
  },
  {
   "cell_type": "code",
   "execution_count": null,
   "metadata": {},
   "outputs": [],
   "source": [
    "# Create a list of the unnecessary columns\n",
    "\n",
    "dropcolumns = ['PACT_CODE', 'ADDRESS2','COUNTRY', 'SITUS_STRE', 'SITUS_CITY', 'SITUS_ZIP', 'SECTTIE',\n",
    "       'SD_NAME', 'LEGAL_DESC', 'TOTAL_ACRE','ANNUAL_TAX', 'STATUS_IND', 'PROP_SUBTY', 'O_NEIGHBOR',\n",
    "       'PROP_TYPE', 'INSPCT_CYC', 'REGION', 'REC_VOLPAG', 'MULT_PARCL',\n",
    "       'SALE_DATE', 'SALE_PRICE', 'SALE_VRFY', 'CODE2', 'WATER_SRC',\n",
    "       'SIGMA_YEAR', 'TAXABLE', 'EXEMPT_TY', 'LOCAL_IND', 'TCA', 'CURR_USE',\n",
    "       'INCORP', 'YEAR_BUILT', 'EFF_YR_BUI', 'RES_QUAL', 'RES_COND',\n",
    "       'ADDL_STRUC']"
   ]
  },
  {
   "cell_type": "code",
   "execution_count": null,
   "metadata": {},
   "outputs": [],
   "source": [
    "# Write out to a csv file for back-up sake.\n",
    "\n",
    "# apt_df.to_csv('../data/thurstonraw.csv')"
   ]
  },
  {
   "cell_type": "code",
   "execution_count": null,
   "metadata": {},
   "outputs": [],
   "source": [
    "# read Thurston Raw if the notebook needs to be restarted\n",
    "\n",
    "thurston_raw_df = pd.read_csv('../data/thurstonraw.csv')"
   ]
  },
  {
   "cell_type": "code",
   "execution_count": null,
   "metadata": {
    "scrolled": true
   },
   "outputs": [],
   "source": [
    "# Drop unnamed, head\n",
    "thurston = thurston_raw_df.drop(columns=dropcolumns)\n",
    "thurston.drop(columns='Unnamed: 0', inplace=True)\n",
    "thurston.head()"
   ]
  },
  {
   "cell_type": "code",
   "execution_count": null,
   "metadata": {},
   "outputs": [],
   "source": [
    "thurston.dtypes\n"
   ]
  },
  {
   "cell_type": "code",
   "execution_count": null,
   "metadata": {},
   "outputs": [],
   "source": [
    "# Use only the affected zip codes\n",
    "# These zip codes were found by combining the zipcode map and the lahar flow map. The affected zipcodes were \n",
    "# pulled out manually. This was done to reduce the size the data we were working with. This is not neccessary \n",
    "# or advised for the process to run in a production environment, unless we can find a way to programatically d\n",
    "# determine affected zip codes.\n",
    "\n",
    "thurston_zips = thurston[(thurston['ZIP'] == '98597') | \n",
    "         (thurston['ZIP'] == '98513') | \n",
    "         (thurston['ZIP'] == '98516') |\n",
    "         (thurston['ZIP'] == '98355')]"
   ]
  },
  {
   "cell_type": "code",
   "execution_count": null,
   "metadata": {},
   "outputs": [],
   "source": [
    "# Drop duplicate address\n",
    "\n",
    "dup_cols = ['ADDRESS1', 'CITY','STATE','ZIP']\n",
    "\n",
    "thurston_zips.drop_duplicates(subset=dup_cols, inplace=True)"
   ]
  },
  {
   "cell_type": "code",
   "execution_count": null,
   "metadata": {},
   "outputs": [],
   "source": [
    "# Drop nulls from values, as we need the values\n",
    "thurston_zips.dropna(subset=['BLDG_VALUE','LAND_VALUE','TOTAL_VALU'], inplace=True)"
   ]
  },
  {
   "cell_type": "code",
   "execution_count": null,
   "metadata": {},
   "outputs": [],
   "source": [
    "thurston_zips.shape"
   ]
  },
  {
   "cell_type": "code",
   "execution_count": null,
   "metadata": {
    "scrolled": true
   },
   "outputs": [],
   "source": [
    "# add lattitude, longitude, and lookup boolean columns\n",
    "\n",
    "thurston_zips['LAT'] = 0\n",
    "thurston_zips['LONG'] = 0\n",
    "thurston_zips['LOOKUP'] = 0"
   ]
  },
  {
   "cell_type": "code",
   "execution_count": null,
   "metadata": {},
   "outputs": [],
   "source": [
    "# reset index\n",
    "thurston_zips.reset_index(drop=True, inplace=True)"
   ]
  },
  {
   "cell_type": "code",
   "execution_count": null,
   "metadata": {},
   "outputs": [],
   "source": [
    "thurston_zips.head()"
   ]
  },
  {
   "cell_type": "code",
   "execution_count": null,
   "metadata": {},
   "outputs": [],
   "source": [
    "# Set geolocator for lookup\n",
    "\n",
    "geolocator = Nominatim(user_agent=\"DSI-SEA-007\")"
   ]
  },
  {
   "cell_type": "code",
   "execution_count": null,
   "metadata": {},
   "outputs": [],
   "source": [
    "# Step through the dataframe, looking \n",
    "\n",
    "j = 0\n",
    "lat_list = []\n",
    "long_list = []\n",
    "\n",
    "for i, val in thurston_zips.iterrows():\n",
    "    address = ''\n",
    "\n",
    "    street = val[1]\n",
    "    city = val[2]\n",
    "    state = val[3]\n",
    "    zip_code = val[4]\n",
    "               \n",
    "    address = address + ' ' + street + ' ' + city + ' ' + state + ' ' + zip_code\n",
    "        \n",
    "    print(address)\n",
    "    j += 1\n",
    "    \n",
    "    try:\n",
    "        location = geolocator.geocode(address)\n",
    "        thurston_zips.loc[i,'LAT'] = location.latitude\n",
    "        thurston_zips.loc[i,'LONG'] = location.longitude\n",
    "        thurston_zips.loc[i,'LOOKUP'] = 1\n",
    "    except:\n",
    "        lat_list.append(0)\n",
    "        long_list.append(0)\n",
    "        thurston_zips.loc[i,'LOOKUP'] = 0\n",
    "        \n",
    "    time.sleep(1)\n",
    "    \n",
    "    if j == 5:\n",
    "        break\n",
    "    \n",
    "#     location = geolocator.geocode('11231 STEDMAN RD SE OLYMIA WA')\n",
    "#     print((location.latitude, location.longitude))"
   ]
  },
  {
   "cell_type": "code",
   "execution_count": null,
   "metadata": {},
   "outputs": [],
   "source": []
  }
 ],
 "metadata": {
  "kernelspec": {
   "display_name": "Python 3",
   "language": "python",
   "name": "python3"
  },
  "language_info": {
   "codemirror_mode": {
    "name": "ipython",
    "version": 3
   },
   "file_extension": ".py",
   "mimetype": "text/x-python",
   "name": "python",
   "nbconvert_exporter": "python",
   "pygments_lexer": "ipython3",
   "version": "3.7.2"
  }
 },
 "nbformat": 4,
 "nbformat_minor": 2
}
