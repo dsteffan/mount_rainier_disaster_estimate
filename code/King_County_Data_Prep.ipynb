{
 "cells": [
  {
   "cell_type": "markdown",
   "metadata": {},
   "source": [
    "## King County Data Clean\n",
    "\n",
    "This notebook will read in the raw datafile downloaded from the King County website and output/save a .csv file with only the information we need moving forward."
   ]
  },
  {
   "cell_type": "code",
   "execution_count": null,
   "metadata": {},
   "outputs": [],
   "source": [
    "# Libraries\n",
    "\n",
    "import pandas as pd"
   ]
  },
  {
   "cell_type": "code",
   "execution_count": null,
   "metadata": {},
   "outputs": [],
   "source": [
    "# Set better options to allow viewing more of the dataframe\n",
    "\n",
    "pd.set_option('display.max_rows', 500)\n",
    "pd.set_option('display.max_columns', 500)\n",
    "pd.set_option('display.width', 1000)"
   ]
  },
  {
   "cell_type": "code",
   "execution_count": null,
   "metadata": {},
   "outputs": [],
   "source": [
    "# Import csv\n",
    "\n",
    "king_raw = pd.read_csv('../data/King_County.csv')"
   ]
  },
  {
   "cell_type": "code",
   "execution_count": null,
   "metadata": {},
   "outputs": [],
   "source": [
    "king_raw.head()"
   ]
  },
  {
   "cell_type": "code",
   "execution_count": null,
   "metadata": {},
   "outputs": [],
   "source": [
    "# Fill the zipcode nulls with 0 so we can turn it into an int\n",
    "king_raw.ZIP5.fillna(0, inplace=True)"
   ]
  },
  {
   "cell_type": "code",
   "execution_count": null,
   "metadata": {},
   "outputs": [],
   "source": [
    "# Set to int\n",
    "king_raw['ZIP5'] = king_raw.ZIP5.astype(int)"
   ]
  },
  {
   "cell_type": "code",
   "execution_count": null,
   "metadata": {},
   "outputs": [],
   "source": [
    "# Double check\n",
    "king_raw.dtypes"
   ]
  },
  {
   "cell_type": "code",
   "execution_count": null,
   "metadata": {},
   "outputs": [],
   "source": [
    "# Use only the affected zip codes\n",
    "# These zip codes were found by combining the zipcode map and the lahar flow map. The affected zipcodes were \n",
    "# pulled out manually. This was done to reduce the size the data we were working with. This is not neccessary \n",
    "# or advised for the process to run in a production environment, unless we can find a way to programatically d\n",
    "# determine affected zip codes.\n",
    "\n",
    "king_zips = king_raw[(king_raw['ZIP5'] == 98022) | \n",
    "         (king_raw['ZIP5'] == 98092) | \n",
    "         (king_raw['ZIP5'] == 98001) |\n",
    "         (king_raw['ZIP5'] == 98047) |\n",
    "         (king_raw['ZIP5'] == 98003)]"
   ]
  },
  {
   "cell_type": "code",
   "execution_count": null,
   "metadata": {},
   "outputs": [],
   "source": [
    "# A list of all the columns we aren't interested in. Again, only necessary to reduce file size.\n",
    "\n",
    "dropcolumns = ['OBJECTID', 'MAJOR', 'MINOR', 'PIN', 'COMMENTS', 'SITETYPE', 'SITEID'\n",
    "               , 'POINT_X', 'POINT_Y', 'COUNTY', 'KROLL',\n",
    "       'KCTP_CITY', 'KCTP_STATE', 'PLSS', 'PROP_NAME', 'PLAT_NAME', 'PLAT_LOT',\n",
    "       'PLAT_BLOCK', 'LOTSQFT', 'LEVYCODE', 'LEVY_JURIS', 'NEW_CONSTR','TAXVAL_RSN', \n",
    "       'ACCNT_NUM', 'KCTP_TAXYR', 'UNIT_NUM', 'BLDG_NUM', 'CONDOSITUS', 'QTS',\n",
    "       'SEC', 'TWP', 'RNG', 'PRIMARY_ADDR', 'ANNEXING_CITY', 'PAAUNIQUENAME',\n",
    "       'PROPTYPE', 'ALIAS1', 'ALIAS2', 'KCA_ZONING', 'KCA_ACRES', 'LEGALDESC',\n",
    "       'PREUSE_CODE', 'PREUSE_DESC', 'Shape_Length', 'Shape_Area', 'ADDR_SN',\n",
    "       'ADDR_ST','ADDR_SD', 'ADDR_HN','ADDR_PD','ADDR_PT','ADDR_NUM', 'FULLNAME']"
   ]
  },
  {
   "cell_type": "code",
   "execution_count": null,
   "metadata": {},
   "outputs": [],
   "source": [
    "# Drop unwanted columns\n",
    "\n",
    "king_zips.drop(columns=dropcolumns, inplace=True)"
   ]
  },
  {
   "cell_type": "code",
   "execution_count": null,
   "metadata": {
    "scrolled": true
   },
   "outputs": [],
   "source": [
    "king_zips.head()"
   ]
  },
  {
   "cell_type": "code",
   "execution_count": null,
   "metadata": {},
   "outputs": [],
   "source": [
    "king_zips.shape"
   ]
  },
  {
   "cell_type": "code",
   "execution_count": null,
   "metadata": {},
   "outputs": [],
   "source": [
    "king_zips.isna().sum()"
   ]
  },
  {
   "cell_type": "code",
   "execution_count": null,
   "metadata": {
    "scrolled": true
   },
   "outputs": [],
   "source": [
    "# drop null tax values, as they're needed\n",
    "\n",
    "king_zips.dropna(subset=['APPR_IMPR','TAX_LNDVAL','TAX_IMPR'], inplace=True)"
   ]
  },
  {
   "cell_type": "code",
   "execution_count": null,
   "metadata": {},
   "outputs": [],
   "source": [
    "king_zips.isna().sum()"
   ]
  },
  {
   "cell_type": "code",
   "execution_count": null,
   "metadata": {},
   "outputs": [],
   "source": [
    "king_zips.shape"
   ]
  },
  {
   "cell_type": "markdown",
   "metadata": {},
   "source": [
    "I don't care about these other nulls, as we have the latitude and longitude to determine if they are in the affected zones, and a value to go along with them"
   ]
  },
  {
   "cell_type": "code",
   "execution_count": null,
   "metadata": {},
   "outputs": [],
   "source": [
    "# Drop any duplicates based on lattitude and longitude I don't need two of the same thing.\n",
    "\n",
    "king_zips.drop_duplicates(subset = ['LAT','LON'], inplace=True)"
   ]
  },
  {
   "cell_type": "code",
   "execution_count": null,
   "metadata": {},
   "outputs": [],
   "source": [
    "# reset index\n",
    "\n",
    "king_zips.reset_index(drop=True, inplace=True)"
   ]
  },
  {
   "cell_type": "code",
   "execution_count": null,
   "metadata": {},
   "outputs": [],
   "source": [
    "king_zips.head()"
   ]
  },
  {
   "cell_type": "code",
   "execution_count": null,
   "metadata": {},
   "outputs": [],
   "source": [
    "king_zips.shape"
   ]
  },
  {
   "cell_type": "code",
   "execution_count": null,
   "metadata": {},
   "outputs": [],
   "source": [
    "king_zips.to_csv('../data/kingvalues.csv')"
   ]
  },
  {
   "cell_type": "code",
   "execution_count": null,
   "metadata": {},
   "outputs": [],
   "source": []
  }
 ],
 "metadata": {
  "kernelspec": {
   "display_name": "Python 3",
   "language": "python",
   "name": "python3"
  },
  "language_info": {
   "codemirror_mode": {
    "name": "ipython",
    "version": 3
   },
   "file_extension": ".py",
   "mimetype": "text/x-python",
   "name": "python",
   "nbconvert_exporter": "python",
   "pygments_lexer": "ipython3",
   "version": "3.7.2"
  }
 },
 "nbformat": 4,
 "nbformat_minor": 2
}
