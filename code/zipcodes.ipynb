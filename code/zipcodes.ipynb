{
 "cells": [
  {
   "cell_type": "code",
   "execution_count": 1,
   "metadata": {},
   "outputs": [
    {
     "name": "stdout",
     "output_type": "stream",
     "text": [
      "Requirement already satisfied: uszipcode in /Users/derek/anaconda3/lib/python3.7/site-packages (0.2.2)\n",
      "Requirement already satisfied: sqlalchemy in /Users/derek/anaconda3/lib/python3.7/site-packages (from uszipcode) (1.3.1)\n",
      "Requirement already satisfied: attrs in /Users/derek/anaconda3/lib/python3.7/site-packages (from uszipcode) (19.1.0)\n",
      "Requirement already satisfied: requests in /Users/derek/anaconda3/lib/python3.7/site-packages (from uszipcode) (2.21.0)\n",
      "Requirement already satisfied: pathlib-mate in /Users/derek/anaconda3/lib/python3.7/site-packages (from uszipcode) (0.0.15)\n",
      "Requirement already satisfied: urllib3<1.25,>=1.21.1 in /Users/derek/anaconda3/lib/python3.7/site-packages (from requests->uszipcode) (1.24.1)\n",
      "Requirement already satisfied: certifi>=2017.4.17 in /Users/derek/anaconda3/lib/python3.7/site-packages (from requests->uszipcode) (2019.3.9)\n",
      "Requirement already satisfied: chardet<3.1.0,>=3.0.2 in /Users/derek/anaconda3/lib/python3.7/site-packages (from requests->uszipcode) (3.0.4)\n",
      "Requirement already satisfied: idna<2.9,>=2.5 in /Users/derek/anaconda3/lib/python3.7/site-packages (from requests->uszipcode) (2.8)\n",
      "Requirement already satisfied: six in /Users/derek/anaconda3/lib/python3.7/site-packages (from pathlib-mate->uszipcode) (1.12.0)\n",
      "Requirement already satisfied: autopep8 in /Users/derek/anaconda3/lib/python3.7/site-packages (from pathlib-mate->uszipcode) (1.4.4)\n",
      "Requirement already satisfied: pycodestyle>=2.4.0 in /Users/derek/anaconda3/lib/python3.7/site-packages (from autopep8->pathlib-mate->uszipcode) (2.5.0)\n"
     ]
    }
   ],
   "source": [
    "!pip install uszipcode"
   ]
  },
  {
   "cell_type": "code",
   "execution_count": 11,
   "metadata": {},
   "outputs": [],
   "source": [
    "import pandas as pd\n",
    "from uszipcode import SearchEngine"
   ]
  },
  {
   "cell_type": "code",
   "execution_count": 4,
   "metadata": {},
   "outputs": [],
   "source": [
    "search = SearchEngine(simple_zipcode=True)\n",
    "\n",
    "wa_zip = search.by_state(\"Washington\", returns = 530)"
   ]
  },
  {
   "cell_type": "code",
   "execution_count": 5,
   "metadata": {},
   "outputs": [
    {
     "data": {
      "text/plain": [
       "list"
      ]
     },
     "execution_count": 5,
     "metadata": {},
     "output_type": "execute_result"
    }
   ],
   "source": [
    "type(wa_zip)"
   ]
  },
  {
   "cell_type": "code",
   "execution_count": 6,
   "metadata": {},
   "outputs": [
    {
     "data": {
      "text/plain": [
       "uszipcode.model.SimpleZipcode"
      ]
     },
     "execution_count": 6,
     "metadata": {},
     "output_type": "execute_result"
    }
   ],
   "source": [
    "type(wa_zip[0])"
   ]
  },
  {
   "cell_type": "code",
   "execution_count": 14,
   "metadata": {},
   "outputs": [
    {
     "data": {
      "text/plain": [
       "31911"
      ]
     },
     "execution_count": 14,
     "metadata": {},
     "output_type": "execute_result"
    }
   ],
   "source": [
    "wa_zip[0].population"
   ]
  },
  {
   "cell_type": "code",
   "execution_count": 8,
   "metadata": {},
   "outputs": [
    {
     "data": {
      "text/plain": [
       "530"
      ]
     },
     "execution_count": 8,
     "metadata": {},
     "output_type": "execute_result"
    }
   ],
   "source": [
    "len(wa_zip)"
   ]
  },
  {
   "cell_type": "code",
   "execution_count": 44,
   "metadata": {},
   "outputs": [
    {
     "data": {
      "text/plain": [
       "SimpleZipcode(zipcode='98001', zipcode_type='Standard', major_city='Auburn', post_office_city='Auburn, WA', common_city_list=['Auburn', 'Algona', 'Federal Way'], county='King County', state='WA', lat=47.31, lng=-122.27, timezone='Pacific', radius_in_miles=5.0, area_code_list=['253'], population=31911, population_density=1717.0, land_area_in_sqmi=18.59, water_area_in_sqmi=0.32, housing_units=11249, occupied_housing_units=10717, median_home_value=268800, median_household_income=71746, bounds_west=-122.306877, bounds_east=-122.226541, bounds_north=47.357844, bounds_south=47.257054)"
      ]
     },
     "execution_count": 44,
     "metadata": {},
     "output_type": "execute_result"
    }
   ],
   "source": [
    "wa_zip[0]"
   ]
  },
  {
   "cell_type": "code",
   "execution_count": 75,
   "metadata": {},
   "outputs": [
    {
     "data": {
      "text/plain": [
       "{'zipcode': '98001',\n",
       " 'zipcode_type': 'Standard',\n",
       " 'major_city': 'Auburn',\n",
       " 'post_office_city': 'Auburn, WA',\n",
       " 'common_city_list': ['Auburn', 'Algona', 'Federal Way'],\n",
       " 'county': 'King County',\n",
       " 'state': 'WA',\n",
       " 'lat': 47.31,\n",
       " 'lng': -122.27,\n",
       " 'timezone': 'Pacific',\n",
       " 'radius_in_miles': 5.0,\n",
       " 'area_code_list': ['253'],\n",
       " 'population': 31911,\n",
       " 'population_density': 1717.0,\n",
       " 'land_area_in_sqmi': 18.59,\n",
       " 'water_area_in_sqmi': 0.32,\n",
       " 'housing_units': 11249,\n",
       " 'occupied_housing_units': 10717,\n",
       " 'median_home_value': 268800,\n",
       " 'median_household_income': 71746,\n",
       " 'bounds_west': -122.306877,\n",
       " 'bounds_east': -122.226541,\n",
       " 'bounds_north': 47.357844,\n",
       " 'bounds_south': 47.257054}"
      ]
     },
     "execution_count": 75,
     "metadata": {},
     "output_type": "execute_result"
    }
   ],
   "source": [
    "wa_zip[0].to_dict()"
   ]
  },
  {
   "cell_type": "code",
   "execution_count": 76,
   "metadata": {},
   "outputs": [],
   "source": [
    "df = pd.DataFrame([wa_zip[i].to_dict() for i in range(len(wa_zip))])"
   ]
  },
  {
   "cell_type": "code",
   "execution_count": 78,
   "metadata": {},
   "outputs": [
    {
     "data": {
      "text/plain": [
       "(530, 24)"
      ]
     },
     "execution_count": 78,
     "metadata": {},
     "output_type": "execute_result"
    }
   ],
   "source": [
    "df.shape"
   ]
  },
  {
   "cell_type": "code",
   "execution_count": 57,
   "metadata": {},
   "outputs": [
    {
     "data": {
      "text/html": [
       "<div>\n",
       "<style scoped>\n",
       "    .dataframe tbody tr th:only-of-type {\n",
       "        vertical-align: middle;\n",
       "    }\n",
       "\n",
       "    .dataframe tbody tr th {\n",
       "        vertical-align: top;\n",
       "    }\n",
       "\n",
       "    .dataframe thead th {\n",
       "        text-align: right;\n",
       "    }\n",
       "</style>\n",
       "<table border=\"1\" class=\"dataframe\">\n",
       "  <thead>\n",
       "    <tr style=\"text-align: right;\">\n",
       "      <th></th>\n",
       "      <th>pop</th>\n",
       "      <th>county</th>\n",
       "      <th>housing_units</th>\n",
       "      <th>med_unit_value</th>\n",
       "      <th>pop_density</th>\n",
       "    </tr>\n",
       "  </thead>\n",
       "  <tbody>\n",
       "    <tr>\n",
       "      <th>98001</th>\n",
       "      <td>31911.0</td>\n",
       "      <td>King County</td>\n",
       "      <td>11249.0</td>\n",
       "      <td>268800.0</td>\n",
       "      <td>1717.0</td>\n",
       "    </tr>\n",
       "    <tr>\n",
       "      <th>98002</th>\n",
       "      <td>31647.0</td>\n",
       "      <td>King County</td>\n",
       "      <td>13480.0</td>\n",
       "      <td>167100.0</td>\n",
       "      <td>4423.0</td>\n",
       "    </tr>\n",
       "    <tr>\n",
       "      <th>98003</th>\n",
       "      <td>44151.0</td>\n",
       "      <td>King County</td>\n",
       "      <td>18436.0</td>\n",
       "      <td>221600.0</td>\n",
       "      <td>3800.0</td>\n",
       "    </tr>\n",
       "    <tr>\n",
       "      <th>98004</th>\n",
       "      <td>27946.0</td>\n",
       "      <td>King County</td>\n",
       "      <td>16568.0</td>\n",
       "      <td>723300.0</td>\n",
       "      <td>3977.0</td>\n",
       "    </tr>\n",
       "    <tr>\n",
       "      <th>98005</th>\n",
       "      <td>17714.0</td>\n",
       "      <td>King County</td>\n",
       "      <td>8070.0</td>\n",
       "      <td>568700.0</td>\n",
       "      <td>2361.0</td>\n",
       "    </tr>\n",
       "  </tbody>\n",
       "</table>\n",
       "</div>"
      ],
      "text/plain": [
       "           pop       county  housing_units  med_unit_value  pop_density\n",
       "98001  31911.0  King County        11249.0        268800.0       1717.0\n",
       "98002  31647.0  King County        13480.0        167100.0       4423.0\n",
       "98003  44151.0  King County        18436.0        221600.0       3800.0\n",
       "98004  27946.0  King County        16568.0        723300.0       3977.0\n",
       "98005  17714.0  King County         8070.0        568700.0       2361.0"
      ]
     },
     "execution_count": 57,
     "metadata": {},
     "output_type": "execute_result"
    }
   ],
   "source": [
    "df = {}\n",
    "\n",
    "df[\"pop\"]            = [wa_zip[i].population for i in range(len(wa_zip))]\n",
    "df[\"county\"]         = [wa_zip[i].county for i in range(len(wa_zip))]\n",
    "df[\"housing_units\"]  = [wa_zip[i].housing_units for i in range(len(wa_zip))]\n",
    "df[\"med_unit_value\"] = [wa_zip[i].median_home_value for i in range(len(wa_zip))]\n",
    "df[\"pop_density\"]    = [wa_zip[i].population_density for i in range(len(wa_zip))]\n",
    "\n",
    "df = pd.DataFrame(df, index = [wa_zip[i].zipcode for i in range(len(wa_zip))])\n",
    "\n",
    "df.head()"
   ]
  },
  {
   "cell_type": "code",
   "execution_count": null,
   "metadata": {},
   "outputs": [],
   "source": []
  }
 ],
 "metadata": {
  "kernelspec": {
   "display_name": "Python 3",
   "language": "python",
   "name": "python3"
  },
  "language_info": {
   "codemirror_mode": {
    "name": "ipython",
    "version": 3
   },
   "file_extension": ".py",
   "mimetype": "text/x-python",
   "name": "python",
   "nbconvert_exporter": "python",
   "pygments_lexer": "ipython3",
   "version": "3.7.3"
  }
 },
 "nbformat": 4,
 "nbformat_minor": 2
}
