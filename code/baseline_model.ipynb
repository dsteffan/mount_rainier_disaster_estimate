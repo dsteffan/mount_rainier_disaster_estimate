{
 "cells": [
  {
   "cell_type": "code",
   "execution_count": 30,
   "metadata": {},
   "outputs": [],
   "source": [
    "import pandas as pd\n",
    "import numpy as np\n",
    "import matplotlib.pyplot as plt"
   ]
  },
  {
   "cell_type": "code",
   "execution_count": 31,
   "metadata": {},
   "outputs": [],
   "source": [
    "df_pierce   = pd.read_csv(\"../data/danger_tax_robinson.csv\")\n",
    "df_king     = pd.read_csv(\"../data/danger_king_robinson.csv\")\n",
    "df_thurston = pd.read_csv(\"../data/danger_thurston_robinson.csv\")"
   ]
  },
  {
   "cell_type": "code",
   "execution_count": 32,
   "metadata": {
    "scrolled": true
   },
   "outputs": [
    {
     "data": {
      "text/html": [
       "<div>\n",
       "<style scoped>\n",
       "    .dataframe tbody tr th:only-of-type {\n",
       "        vertical-align: middle;\n",
       "    }\n",
       "\n",
       "    .dataframe tbody tr th {\n",
       "        vertical-align: top;\n",
       "    }\n",
       "\n",
       "    .dataframe thead th {\n",
       "        text-align: right;\n",
       "    }\n",
       "</style>\n",
       "<table border=\"1\" class=\"dataframe\">\n",
       "  <thead>\n",
       "    <tr style=\"text-align: right;\">\n",
       "      <th></th>\n",
       "      <th>TaxParcelNumber</th>\n",
       "      <th>TaxParcelType</th>\n",
       "      <th>TaxParcelUnitType</th>\n",
       "      <th>EditDate</th>\n",
       "      <th>Delivery_Address</th>\n",
       "      <th>City_State</th>\n",
       "      <th>Zipcode</th>\n",
       "      <th>Site_Address</th>\n",
       "      <th>Land_Acres</th>\n",
       "      <th>Land_Value</th>\n",
       "      <th>...</th>\n",
       "      <th>X_Coordinate</th>\n",
       "      <th>Y_Coordinate</th>\n",
       "      <th>Longitude</th>\n",
       "      <th>Latitude</th>\n",
       "      <th>Shape__Area</th>\n",
       "      <th>Shape__Length</th>\n",
       "      <th>CASE_1</th>\n",
       "      <th>CASE_2</th>\n",
       "      <th>CASE_3</th>\n",
       "      <th>is_threatened</th>\n",
       "    </tr>\n",
       "  </thead>\n",
       "  <tbody>\n",
       "    <tr>\n",
       "      <th>0</th>\n",
       "      <td>21247005</td>\n",
       "      <td>Base Parcel</td>\n",
       "      <td></td>\n",
       "      <td>1998-07-24T00:00:00.000Z</td>\n",
       "      <td>UNKNOWN PARTY ADDRESS</td>\n",
       "      <td>UNKNOWN CITY, WA</td>\n",
       "      <td>NaN</td>\n",
       "      <td>XXX 34TH STCT NW</td>\n",
       "      <td>0.0000</td>\n",
       "      <td>0</td>\n",
       "      <td>...</td>\n",
       "      <td>1.081288e+06</td>\n",
       "      <td>721057.9755</td>\n",
       "      <td>-122.75325</td>\n",
       "      <td>47.28867</td>\n",
       "      <td>38758.018311</td>\n",
       "      <td>1141.837123</td>\n",
       "      <td>0.0</td>\n",
       "      <td>0.0</td>\n",
       "      <td>0.0</td>\n",
       "      <td>False</td>\n",
       "    </tr>\n",
       "    <tr>\n",
       "      <th>1</th>\n",
       "      <td>21247006</td>\n",
       "      <td>Base Parcel</td>\n",
       "      <td>NaN</td>\n",
       "      <td>2014-11-26T12:23:33.000Z</td>\n",
       "      <td>3211 MCEWAN ROAD NW</td>\n",
       "      <td>LAKEBAY, WA</td>\n",
       "      <td>98349</td>\n",
       "      <td>3211 MCEWAN RD NW</td>\n",
       "      <td>7.6300</td>\n",
       "      <td>364000</td>\n",
       "      <td>...</td>\n",
       "      <td>1.080163e+06</td>\n",
       "      <td>720458.5894</td>\n",
       "      <td>-122.75771</td>\n",
       "      <td>47.28694</td>\n",
       "      <td>345604.122986</td>\n",
       "      <td>3638.028072</td>\n",
       "      <td>0.0</td>\n",
       "      <td>0.0</td>\n",
       "      <td>0.0</td>\n",
       "      <td>False</td>\n",
       "    </tr>\n",
       "    <tr>\n",
       "      <th>2</th>\n",
       "      <td>21247007</td>\n",
       "      <td>Base Parcel</td>\n",
       "      <td></td>\n",
       "      <td>2014-11-26T12:23:33.000Z</td>\n",
       "      <td>3211 MCEWAN ROAD NW</td>\n",
       "      <td>LAKEBAY, WA</td>\n",
       "      <td>98349</td>\n",
       "      <td>3209 MCEWAN RD NW</td>\n",
       "      <td>2.8700</td>\n",
       "      <td>251400</td>\n",
       "      <td>...</td>\n",
       "      <td>1.081042e+06</td>\n",
       "      <td>720375.4829</td>\n",
       "      <td>-122.75416</td>\n",
       "      <td>47.28678</td>\n",
       "      <td>133528.313354</td>\n",
       "      <td>2089.154656</td>\n",
       "      <td>0.0</td>\n",
       "      <td>0.0</td>\n",
       "      <td>0.0</td>\n",
       "      <td>False</td>\n",
       "    </tr>\n",
       "    <tr>\n",
       "      <th>3</th>\n",
       "      <td>21247700</td>\n",
       "      <td>Base Parcel</td>\n",
       "      <td></td>\n",
       "      <td>1996-01-23T00:00:00.000Z</td>\n",
       "      <td>PO BOX 670</td>\n",
       "      <td>LAKEBAY, WA</td>\n",
       "      <td>98349-0670</td>\n",
       "      <td>XXX Undetermined Situs</td>\n",
       "      <td>1.3174</td>\n",
       "      <td>33900</td>\n",
       "      <td>...</td>\n",
       "      <td>1.080063e+06</td>\n",
       "      <td>720851.0629</td>\n",
       "      <td>-122.75815</td>\n",
       "      <td>47.28801</td>\n",
       "      <td>60097.457336</td>\n",
       "      <td>1243.548915</td>\n",
       "      <td>0.0</td>\n",
       "      <td>0.0</td>\n",
       "      <td>0.0</td>\n",
       "      <td>False</td>\n",
       "    </tr>\n",
       "    <tr>\n",
       "      <th>4</th>\n",
       "      <td>21247701</td>\n",
       "      <td>Base Parcel</td>\n",
       "      <td></td>\n",
       "      <td>1996-01-23T00:00:00.000Z</td>\n",
       "      <td>PO BOX 670</td>\n",
       "      <td>LAKEBAY, WA</td>\n",
       "      <td>98349-0670</td>\n",
       "      <td>16407 33RD STCT NW</td>\n",
       "      <td>2.7100</td>\n",
       "      <td>251200</td>\n",
       "      <td>...</td>\n",
       "      <td>1.080827e+06</td>\n",
       "      <td>720849.5547</td>\n",
       "      <td>-122.75508</td>\n",
       "      <td>47.28806</td>\n",
       "      <td>122531.592957</td>\n",
       "      <td>2293.364640</td>\n",
       "      <td>0.0</td>\n",
       "      <td>0.0</td>\n",
       "      <td>0.0</td>\n",
       "      <td>False</td>\n",
       "    </tr>\n",
       "  </tbody>\n",
       "</table>\n",
       "<p>5 rows × 24 columns</p>\n",
       "</div>"
      ],
      "text/plain": [
       "   TaxParcelNumber TaxParcelType TaxParcelUnitType                  EditDate  \\\n",
       "0         21247005   Base Parcel                    1998-07-24T00:00:00.000Z   \n",
       "1         21247006   Base Parcel               NaN  2014-11-26T12:23:33.000Z   \n",
       "2         21247007   Base Parcel                    2014-11-26T12:23:33.000Z   \n",
       "3         21247700   Base Parcel                    1996-01-23T00:00:00.000Z   \n",
       "4         21247701   Base Parcel                    1996-01-23T00:00:00.000Z   \n",
       "\n",
       "        Delivery_Address        City_State     Zipcode  \\\n",
       "0  UNKNOWN PARTY ADDRESS  UNKNOWN CITY, WA         NaN   \n",
       "1    3211 MCEWAN ROAD NW       LAKEBAY, WA       98349   \n",
       "2    3211 MCEWAN ROAD NW       LAKEBAY, WA       98349   \n",
       "3             PO BOX 670       LAKEBAY, WA  98349-0670   \n",
       "4             PO BOX 670       LAKEBAY, WA  98349-0670   \n",
       "\n",
       "             Site_Address  Land_Acres  Land_Value  ...  X_Coordinate  \\\n",
       "0        XXX 34TH STCT NW      0.0000           0  ...  1.081288e+06   \n",
       "1       3211 MCEWAN RD NW      7.6300      364000  ...  1.080163e+06   \n",
       "2       3209 MCEWAN RD NW      2.8700      251400  ...  1.081042e+06   \n",
       "3  XXX Undetermined Situs      1.3174       33900  ...  1.080063e+06   \n",
       "4      16407 33RD STCT NW      2.7100      251200  ...  1.080827e+06   \n",
       "\n",
       "   Y_Coordinate  Longitude  Latitude    Shape__Area  Shape__Length  CASE_1  \\\n",
       "0   721057.9755 -122.75325  47.28867   38758.018311    1141.837123     0.0   \n",
       "1   720458.5894 -122.75771  47.28694  345604.122986    3638.028072     0.0   \n",
       "2   720375.4829 -122.75416  47.28678  133528.313354    2089.154656     0.0   \n",
       "3   720851.0629 -122.75815  47.28801   60097.457336    1243.548915     0.0   \n",
       "4   720849.5547 -122.75508  47.28806  122531.592957    2293.364640     0.0   \n",
       "\n",
       "   CASE_2  CASE_3  is_threatened  \n",
       "0     0.0     0.0          False  \n",
       "1     0.0     0.0          False  \n",
       "2     0.0     0.0          False  \n",
       "3     0.0     0.0          False  \n",
       "4     0.0     0.0          False  \n",
       "\n",
       "[5 rows x 24 columns]"
      ]
     },
     "execution_count": 32,
     "metadata": {},
     "output_type": "execute_result"
    }
   ],
   "source": [
    "df_pierce.head()"
   ]
  },
  {
   "cell_type": "code",
   "execution_count": 33,
   "metadata": {},
   "outputs": [
    {
     "data": {
      "text/html": [
       "<div>\n",
       "<style scoped>\n",
       "    .dataframe tbody tr th:only-of-type {\n",
       "        vertical-align: middle;\n",
       "    }\n",
       "\n",
       "    .dataframe tbody tr th {\n",
       "        vertical-align: top;\n",
       "    }\n",
       "\n",
       "    .dataframe thead th {\n",
       "        text-align: right;\n",
       "    }\n",
       "</style>\n",
       "<table border=\"1\" class=\"dataframe\">\n",
       "  <thead>\n",
       "    <tr style=\"text-align: right;\">\n",
       "      <th></th>\n",
       "      <th>Unnamed: 0</th>\n",
       "      <th>ADDR_FULL</th>\n",
       "      <th>ZIP5</th>\n",
       "      <th>PLUS4</th>\n",
       "      <th>CTYNAME</th>\n",
       "      <th>POSTALCTYNAME</th>\n",
       "      <th>LAT</th>\n",
       "      <th>LON</th>\n",
       "      <th>APPRLNDVAL</th>\n",
       "      <th>APPR_IMPR</th>\n",
       "      <th>TAX_LNDVAL</th>\n",
       "      <th>TAX_IMPR</th>\n",
       "      <th>is_threatened</th>\n",
       "    </tr>\n",
       "  </thead>\n",
       "  <tbody>\n",
       "    <tr>\n",
       "      <th>0</th>\n",
       "      <td>0</td>\n",
       "      <td>2108 B ST NW</td>\n",
       "      <td>98001</td>\n",
       "      <td>1624.0</td>\n",
       "      <td>AUBURN</td>\n",
       "      <td>AUBURN</td>\n",
       "      <td>47.32735</td>\n",
       "      <td>-122.23105</td>\n",
       "      <td>5115900.0</td>\n",
       "      <td>20709100.0</td>\n",
       "      <td>5115900.0</td>\n",
       "      <td>20709100.0</td>\n",
       "      <td>0</td>\n",
       "    </tr>\n",
       "    <tr>\n",
       "      <th>1</th>\n",
       "      <td>1</td>\n",
       "      <td>5 14TH ST NW</td>\n",
       "      <td>98001</td>\n",
       "      <td>4000.0</td>\n",
       "      <td>AUBURN</td>\n",
       "      <td>AUBURN</td>\n",
       "      <td>47.32053</td>\n",
       "      <td>-122.22926</td>\n",
       "      <td>672700.0</td>\n",
       "      <td>827600.0</td>\n",
       "      <td>672700.0</td>\n",
       "      <td>827600.0</td>\n",
       "      <td>0</td>\n",
       "    </tr>\n",
       "    <tr>\n",
       "      <th>2</th>\n",
       "      <td>2</td>\n",
       "      <td>9 14TH ST NW</td>\n",
       "      <td>98001</td>\n",
       "      <td>4000.0</td>\n",
       "      <td>AUBURN</td>\n",
       "      <td>AUBURN</td>\n",
       "      <td>47.32054</td>\n",
       "      <td>-122.23093</td>\n",
       "      <td>1324800.0</td>\n",
       "      <td>4961600.0</td>\n",
       "      <td>1324800.0</td>\n",
       "      <td>4961600.0</td>\n",
       "      <td>0</td>\n",
       "    </tr>\n",
       "    <tr>\n",
       "      <th>3</th>\n",
       "      <td>3</td>\n",
       "      <td>9 16TH ST NW</td>\n",
       "      <td>98001</td>\n",
       "      <td>1613.0</td>\n",
       "      <td>AUBURN</td>\n",
       "      <td>AUBURN</td>\n",
       "      <td>47.32371</td>\n",
       "      <td>-122.23141</td>\n",
       "      <td>682200.0</td>\n",
       "      <td>6711900.0</td>\n",
       "      <td>682200.0</td>\n",
       "      <td>6711900.0</td>\n",
       "      <td>0</td>\n",
       "    </tr>\n",
       "    <tr>\n",
       "      <th>4</th>\n",
       "      <td>4</td>\n",
       "      <td>8 16TH ST NW</td>\n",
       "      <td>98001</td>\n",
       "      <td>1616.0</td>\n",
       "      <td>AUBURN</td>\n",
       "      <td>AUBURN</td>\n",
       "      <td>47.32284</td>\n",
       "      <td>-122.23138</td>\n",
       "      <td>2810800.0</td>\n",
       "      <td>4377000.0</td>\n",
       "      <td>2810800.0</td>\n",
       "      <td>4377000.0</td>\n",
       "      <td>0</td>\n",
       "    </tr>\n",
       "  </tbody>\n",
       "</table>\n",
       "</div>"
      ],
      "text/plain": [
       "   Unnamed: 0     ADDR_FULL   ZIP5   PLUS4 CTYNAME POSTALCTYNAME       LAT  \\\n",
       "0           0  2108 B ST NW  98001  1624.0  AUBURN        AUBURN  47.32735   \n",
       "1           1  5 14TH ST NW  98001  4000.0  AUBURN        AUBURN  47.32053   \n",
       "2           2  9 14TH ST NW  98001  4000.0  AUBURN        AUBURN  47.32054   \n",
       "3           3  9 16TH ST NW  98001  1613.0  AUBURN        AUBURN  47.32371   \n",
       "4           4  8 16TH ST NW  98001  1616.0  AUBURN        AUBURN  47.32284   \n",
       "\n",
       "         LON  APPRLNDVAL   APPR_IMPR  TAX_LNDVAL    TAX_IMPR is_threatened  \n",
       "0 -122.23105   5115900.0  20709100.0   5115900.0  20709100.0             0  \n",
       "1 -122.22926    672700.0    827600.0    672700.0    827600.0             0  \n",
       "2 -122.23093   1324800.0   4961600.0   1324800.0   4961600.0             0  \n",
       "3 -122.23141    682200.0   6711900.0    682200.0   6711900.0             0  \n",
       "4 -122.23138   2810800.0   4377000.0   2810800.0   4377000.0             0  "
      ]
     },
     "execution_count": 33,
     "metadata": {},
     "output_type": "execute_result"
    }
   ],
   "source": [
    "df_king.head()"
   ]
  },
  {
   "cell_type": "code",
   "execution_count": 34,
   "metadata": {},
   "outputs": [
    {
     "data": {
      "text/html": [
       "<div>\n",
       "<style scoped>\n",
       "    .dataframe tbody tr th:only-of-type {\n",
       "        vertical-align: middle;\n",
       "    }\n",
       "\n",
       "    .dataframe tbody tr th {\n",
       "        vertical-align: top;\n",
       "    }\n",
       "\n",
       "    .dataframe thead th {\n",
       "        text-align: right;\n",
       "    }\n",
       "</style>\n",
       "<table border=\"1\" class=\"dataframe\">\n",
       "  <thead>\n",
       "    <tr style=\"text-align: right;\">\n",
       "      <th></th>\n",
       "      <th>Unnamed: 0</th>\n",
       "      <th>PARCEL_NO</th>\n",
       "      <th>ADDRESS1</th>\n",
       "      <th>CITY</th>\n",
       "      <th>STATE</th>\n",
       "      <th>ZIP</th>\n",
       "      <th>BLDG_VALUE</th>\n",
       "      <th>LAND_VALUE</th>\n",
       "      <th>TOTAL_VALU</th>\n",
       "      <th>LAT</th>\n",
       "      <th>LONG</th>\n",
       "      <th>LOOKUP</th>\n",
       "      <th>SUCCESS</th>\n",
       "      <th>is_threatened</th>\n",
       "    </tr>\n",
       "  </thead>\n",
       "  <tbody>\n",
       "    <tr>\n",
       "      <th>0</th>\n",
       "      <td>0</td>\n",
       "      <td>11728340400</td>\n",
       "      <td>11231 STEDMAN RD SE</td>\n",
       "      <td>OLYMPIA</td>\n",
       "      <td>WA</td>\n",
       "      <td>98513</td>\n",
       "      <td>0.0</td>\n",
       "      <td>14200.0</td>\n",
       "      <td>14200.0</td>\n",
       "      <td>46.92579</td>\n",
       "      <td>-122.81080</td>\n",
       "      <td>1</td>\n",
       "      <td>1</td>\n",
       "      <td>NaN</td>\n",
       "    </tr>\n",
       "    <tr>\n",
       "      <th>1</th>\n",
       "      <td>1</td>\n",
       "      <td>11728430200</td>\n",
       "      <td>11046 TEMPO LK DR SE</td>\n",
       "      <td>OLYMPIA</td>\n",
       "      <td>WA</td>\n",
       "      <td>98513</td>\n",
       "      <td>0.0</td>\n",
       "      <td>58600.0</td>\n",
       "      <td>58600.0</td>\n",
       "      <td>0.00000</td>\n",
       "      <td>0.00000</td>\n",
       "      <td>1</td>\n",
       "      <td>0</td>\n",
       "      <td>NaN</td>\n",
       "    </tr>\n",
       "    <tr>\n",
       "      <th>2</th>\n",
       "      <td>2</td>\n",
       "      <td>11728430401</td>\n",
       "      <td>11249 STEDMAN RD SE</td>\n",
       "      <td>OLYMPIA</td>\n",
       "      <td>WA</td>\n",
       "      <td>98513</td>\n",
       "      <td>0.0</td>\n",
       "      <td>64200.0</td>\n",
       "      <td>64200.0</td>\n",
       "      <td>46.92603</td>\n",
       "      <td>-122.81099</td>\n",
       "      <td>1</td>\n",
       "      <td>1</td>\n",
       "      <td>NaN</td>\n",
       "    </tr>\n",
       "    <tr>\n",
       "      <th>3</th>\n",
       "      <td>3</td>\n",
       "      <td>11730210101</td>\n",
       "      <td>7235 44TH AVE NE</td>\n",
       "      <td>OLYMPIA</td>\n",
       "      <td>WA</td>\n",
       "      <td>98516</td>\n",
       "      <td>0.0</td>\n",
       "      <td>102400.0</td>\n",
       "      <td>102400.0</td>\n",
       "      <td>0.00000</td>\n",
       "      <td>0.00000</td>\n",
       "      <td>1</td>\n",
       "      <td>0</td>\n",
       "      <td>NaN</td>\n",
       "    </tr>\n",
       "    <tr>\n",
       "      <th>4</th>\n",
       "      <td>4</td>\n",
       "      <td>57730000400</td>\n",
       "      <td>5420 CALEB CT SE</td>\n",
       "      <td>OLYMPIA</td>\n",
       "      <td>WA</td>\n",
       "      <td>98513</td>\n",
       "      <td>0.0</td>\n",
       "      <td>118900.0</td>\n",
       "      <td>118900.0</td>\n",
       "      <td>0.00000</td>\n",
       "      <td>0.00000</td>\n",
       "      <td>1</td>\n",
       "      <td>0</td>\n",
       "      <td>NaN</td>\n",
       "    </tr>\n",
       "  </tbody>\n",
       "</table>\n",
       "</div>"
      ],
      "text/plain": [
       "   Unnamed: 0    PARCEL_NO              ADDRESS1     CITY STATE    ZIP  \\\n",
       "0           0  11728340400   11231 STEDMAN RD SE  OLYMPIA    WA  98513   \n",
       "1           1  11728430200  11046 TEMPO LK DR SE  OLYMPIA    WA  98513   \n",
       "2           2  11728430401   11249 STEDMAN RD SE  OLYMPIA    WA  98513   \n",
       "3           3  11730210101      7235 44TH AVE NE  OLYMPIA    WA  98516   \n",
       "4           4  57730000400      5420 CALEB CT SE  OLYMPIA    WA  98513   \n",
       "\n",
       "   BLDG_VALUE  LAND_VALUE  TOTAL_VALU       LAT       LONG  LOOKUP  SUCCESS  \\\n",
       "0         0.0     14200.0     14200.0  46.92579 -122.81080       1        1   \n",
       "1         0.0     58600.0     58600.0   0.00000    0.00000       1        0   \n",
       "2         0.0     64200.0     64200.0  46.92603 -122.81099       1        1   \n",
       "3         0.0    102400.0    102400.0   0.00000    0.00000       1        0   \n",
       "4         0.0    118900.0    118900.0   0.00000    0.00000       1        0   \n",
       "\n",
       "  is_threatened  \n",
       "0           NaN  \n",
       "1           NaN  \n",
       "2           NaN  \n",
       "3           NaN  \n",
       "4           NaN  "
      ]
     },
     "execution_count": 34,
     "metadata": {},
     "output_type": "execute_result"
    }
   ],
   "source": [
    "df_thurston.head()"
   ]
  },
  {
   "cell_type": "code",
   "execution_count": 35,
   "metadata": {},
   "outputs": [
    {
     "data": {
      "text/plain": [
       "0       35581\n",
       "True     2825\n",
       "Name: is_threatened, dtype: int64"
      ]
     },
     "execution_count": 35,
     "metadata": {},
     "output_type": "execute_result"
    }
   ],
   "source": [
    "df_king[\"is_threatened\"].value_counts()"
   ]
  },
  {
   "cell_type": "code",
   "execution_count": 36,
   "metadata": {
    "scrolled": true
   },
   "outputs": [
    {
     "data": {
      "text/plain": [
       "True    110\n",
       "Name: is_threatened, dtype: int64"
      ]
     },
     "execution_count": 36,
     "metadata": {},
     "output_type": "execute_result"
    }
   ],
   "source": [
    "df_thurston[\"is_threatened\"].value_counts()"
   ]
  },
  {
   "cell_type": "code",
   "execution_count": 37,
   "metadata": {},
   "outputs": [],
   "source": [
    "# Remapping is_threatened to make grouping and concatenating easier.\n",
    "df_king[\"is_threatened\"]     = df_king[\"is_threatened\"].map({\"True\": True, \"0\": False})\n",
    "df_thurston[\"is_threatened\"] = df_thurston[\"is_threatened\"].map({True: True, np.nan: False})"
   ]
  },
  {
   "cell_type": "code",
   "execution_count": 38,
   "metadata": {},
   "outputs": [
    {
     "data": {
      "text/plain": [
       "False    17473\n",
       "True       110\n",
       "Name: is_threatened, dtype: int64"
      ]
     },
     "execution_count": 38,
     "metadata": {},
     "output_type": "execute_result"
    }
   ],
   "source": [
    "df_thurston[\"is_threatened\"].value_counts()"
   ]
  },
  {
   "cell_type": "code",
   "execution_count": 39,
   "metadata": {},
   "outputs": [
    {
     "data": {
      "text/plain": [
       "False    35581\n",
       "True      2825\n",
       "Name: is_threatened, dtype: int64"
      ]
     },
     "execution_count": 39,
     "metadata": {},
     "output_type": "execute_result"
    }
   ],
   "source": [
    "df_king[\"is_threatened\"].value_counts()"
   ]
  },
  {
   "cell_type": "code",
   "execution_count": 40,
   "metadata": {},
   "outputs": [
    {
     "data": {
      "text/plain": [
       "False    298390\n",
       "True      29697\n",
       "Name: is_threatened, dtype: int64"
      ]
     },
     "execution_count": 40,
     "metadata": {},
     "output_type": "execute_result"
    }
   ],
   "source": [
    "df_pierce[\"is_threatened\"].value_counts()"
   ]
  },
  {
   "cell_type": "code",
   "execution_count": 41,
   "metadata": {},
   "outputs": [
    {
     "data": {
      "text/html": [
       "<div>\n",
       "<style scoped>\n",
       "    .dataframe tbody tr th:only-of-type {\n",
       "        vertical-align: middle;\n",
       "    }\n",
       "\n",
       "    .dataframe tbody tr th {\n",
       "        vertical-align: top;\n",
       "    }\n",
       "\n",
       "    .dataframe thead th {\n",
       "        text-align: right;\n",
       "    }\n",
       "</style>\n",
       "<table border=\"1\" class=\"dataframe\">\n",
       "  <thead>\n",
       "    <tr style=\"text-align: right;\">\n",
       "      <th></th>\n",
       "      <th>Unnamed: 0</th>\n",
       "      <th>ADDR_FULL</th>\n",
       "      <th>ZIP5</th>\n",
       "      <th>PLUS4</th>\n",
       "      <th>CTYNAME</th>\n",
       "      <th>POSTALCTYNAME</th>\n",
       "      <th>LAT</th>\n",
       "      <th>LON</th>\n",
       "      <th>APPRLNDVAL</th>\n",
       "      <th>APPR_IMPR</th>\n",
       "      <th>TAX_LNDVAL</th>\n",
       "      <th>TAX_IMPR</th>\n",
       "      <th>is_threatened</th>\n",
       "    </tr>\n",
       "  </thead>\n",
       "  <tbody>\n",
       "    <tr>\n",
       "      <th>12925</th>\n",
       "      <td>12925</td>\n",
       "      <td>3647 C ST SW</td>\n",
       "      <td>98047</td>\n",
       "      <td>3600.0</td>\n",
       "      <td>AUBURN</td>\n",
       "      <td>PACIFIC</td>\n",
       "      <td>47.27451</td>\n",
       "      <td>-122.23425</td>\n",
       "      <td>24505500.0</td>\n",
       "      <td>100143000.0</td>\n",
       "      <td>24505500.0</td>\n",
       "      <td>100143000.0</td>\n",
       "      <td>True</td>\n",
       "    </tr>\n",
       "  </tbody>\n",
       "</table>\n",
       "</div>"
      ],
      "text/plain": [
       "       Unnamed: 0     ADDR_FULL   ZIP5   PLUS4 CTYNAME POSTALCTYNAME  \\\n",
       "12925       12925  3647 C ST SW  98047  3600.0  AUBURN       PACIFIC   \n",
       "\n",
       "            LAT        LON  APPRLNDVAL    APPR_IMPR  TAX_LNDVAL     TAX_IMPR  \\\n",
       "12925  47.27451 -122.23425  24505500.0  100143000.0  24505500.0  100143000.0   \n",
       "\n",
       "       is_threatened  \n",
       "12925           True  "
      ]
     },
     "execution_count": 41,
     "metadata": {},
     "output_type": "execute_result"
    }
   ],
   "source": [
    "king_danger = df_king[df_king[\"is_threatened\"]]\n",
    "\n",
    "df_king[df_king[\"TAX_IMPR\"] == king_danger[\"TAX_IMPR\"].max()]"
   ]
  },
  {
   "cell_type": "markdown",
   "metadata": {},
   "source": [
    "> This entry, with a taxable value of over 100 million, is the most valuable \"at risk\" parcel and refers to Safeway's distribution center in downtown Auburn."
   ]
  },
  {
   "cell_type": "code",
   "execution_count": 42,
   "metadata": {},
   "outputs": [
    {
     "data": {
      "text/html": [
       "<div>\n",
       "<style scoped>\n",
       "    .dataframe tbody tr th:only-of-type {\n",
       "        vertical-align: middle;\n",
       "    }\n",
       "\n",
       "    .dataframe tbody tr th {\n",
       "        vertical-align: top;\n",
       "    }\n",
       "\n",
       "    .dataframe thead th {\n",
       "        text-align: right;\n",
       "    }\n",
       "</style>\n",
       "<table border=\"1\" class=\"dataframe\">\n",
       "  <thead>\n",
       "    <tr style=\"text-align: right;\">\n",
       "      <th></th>\n",
       "      <th>Unnamed: 0</th>\n",
       "      <th>ADDR_FULL</th>\n",
       "      <th>ZIP5</th>\n",
       "      <th>PLUS4</th>\n",
       "      <th>CTYNAME</th>\n",
       "      <th>POSTALCTYNAME</th>\n",
       "      <th>LAT</th>\n",
       "      <th>LON</th>\n",
       "      <th>APPRLNDVAL</th>\n",
       "      <th>APPR_IMPR</th>\n",
       "      <th>TAX_LNDVAL</th>\n",
       "      <th>TAX_IMPR</th>\n",
       "      <th>is_threatened</th>\n",
       "    </tr>\n",
       "  </thead>\n",
       "  <tbody>\n",
       "    <tr>\n",
       "      <th>12487</th>\n",
       "      <td>12487</td>\n",
       "      <td>2202 PERIMETER RD SW</td>\n",
       "      <td>98001</td>\n",
       "      <td>NaN</td>\n",
       "      <td>AUBURN</td>\n",
       "      <td>NaN</td>\n",
       "      <td>47.28967</td>\n",
       "      <td>-122.23859</td>\n",
       "      <td>9540000.0</td>\n",
       "      <td>69530900.0</td>\n",
       "      <td>9540000.0</td>\n",
       "      <td>69530900.0</td>\n",
       "      <td>True</td>\n",
       "    </tr>\n",
       "    <tr>\n",
       "      <th>12925</th>\n",
       "      <td>12925</td>\n",
       "      <td>3647 C ST SW</td>\n",
       "      <td>98047</td>\n",
       "      <td>3600.0</td>\n",
       "      <td>AUBURN</td>\n",
       "      <td>PACIFIC</td>\n",
       "      <td>47.27451</td>\n",
       "      <td>-122.23425</td>\n",
       "      <td>24505500.0</td>\n",
       "      <td>100143000.0</td>\n",
       "      <td>24505500.0</td>\n",
       "      <td>100143000.0</td>\n",
       "      <td>True</td>\n",
       "    </tr>\n",
       "  </tbody>\n",
       "</table>\n",
       "</div>"
      ],
      "text/plain": [
       "       Unnamed: 0             ADDR_FULL   ZIP5   PLUS4 CTYNAME POSTALCTYNAME  \\\n",
       "12487       12487  2202 PERIMETER RD SW  98001     NaN  AUBURN           NaN   \n",
       "12925       12925          3647 C ST SW  98047  3600.0  AUBURN       PACIFIC   \n",
       "\n",
       "            LAT        LON  APPRLNDVAL    APPR_IMPR  TAX_LNDVAL     TAX_IMPR  \\\n",
       "12487  47.28967 -122.23859   9540000.0   69530900.0   9540000.0   69530900.0   \n",
       "12925  47.27451 -122.23425  24505500.0  100143000.0  24505500.0  100143000.0   \n",
       "\n",
       "       is_threatened  \n",
       "12487           True  \n",
       "12925           True  "
      ]
     },
     "execution_count": 42,
     "metadata": {},
     "output_type": "execute_result"
    }
   ],
   "source": [
    "king_danger[king_danger[\"TAX_IMPR\"] >= 50_000_000]"
   ]
  },
  {
   "cell_type": "code",
   "execution_count": 43,
   "metadata": {},
   "outputs": [
    {
     "name": "stdout",
     "output_type": "stream",
     "text": [
      "King County size:\t (38406, 13)\n",
      "Pierce County size:\t (328087, 24)\n",
      "Thurston County size:\t (17583, 14)\n"
     ]
    }
   ],
   "source": [
    "print(\"King County size:\\t\", df_king.shape)\n",
    "print(\"Pierce County size:\\t\", df_pierce.shape)\n",
    "print(\"Thurston County size:\\t\", df_thurston.shape)"
   ]
  },
  {
   "cell_type": "markdown",
   "metadata": {},
   "source": [
    "## Aggregating\n",
    "---"
   ]
  },
  {
   "cell_type": "code",
   "execution_count": 44,
   "metadata": {},
   "outputs": [
    {
     "data": {
      "text/html": [
       "<div>\n",
       "<style scoped>\n",
       "    .dataframe tbody tr th:only-of-type {\n",
       "        vertical-align: middle;\n",
       "    }\n",
       "\n",
       "    .dataframe tbody tr th {\n",
       "        vertical-align: top;\n",
       "    }\n",
       "\n",
       "    .dataframe thead th {\n",
       "        text-align: right;\n",
       "    }\n",
       "</style>\n",
       "<table border=\"1\" class=\"dataframe\">\n",
       "  <thead>\n",
       "    <tr style=\"text-align: right;\">\n",
       "      <th></th>\n",
       "      <th>TAX_LNDVAL</th>\n",
       "      <th>TAX_IMPR</th>\n",
       "    </tr>\n",
       "    <tr>\n",
       "      <th>is_threatened</th>\n",
       "      <th></th>\n",
       "      <th></th>\n",
       "    </tr>\n",
       "  </thead>\n",
       "  <tbody>\n",
       "    <tr>\n",
       "      <th>False</th>\n",
       "      <td>5.288315e+09</td>\n",
       "      <td>1.206920e+10</td>\n",
       "    </tr>\n",
       "    <tr>\n",
       "      <th>True</th>\n",
       "      <td>3.423397e+08</td>\n",
       "      <td>1.091014e+09</td>\n",
       "    </tr>\n",
       "  </tbody>\n",
       "</table>\n",
       "</div>"
      ],
      "text/plain": [
       "                 TAX_LNDVAL      TAX_IMPR\n",
       "is_threatened                            \n",
       "False          5.288315e+09  1.206920e+10\n",
       "True           3.423397e+08  1.091014e+09"
      ]
     },
     "execution_count": 44,
     "metadata": {},
     "output_type": "execute_result"
    }
   ],
   "source": [
    "model_king = df_king.groupby(\"is_threatened\").sum()[[#\"APPRLNDVAL\", \n",
    "                                                     #\"APPR_IMPR\", \n",
    "                                                     \"TAX_LNDVAL\", \n",
    "                                                     \"TAX_IMPR\"]]\n",
    "model_king"
   ]
  },
  {
   "cell_type": "code",
   "execution_count": 45,
   "metadata": {},
   "outputs": [
    {
     "data": {
      "text/html": [
       "<div>\n",
       "<style scoped>\n",
       "    .dataframe tbody tr th:only-of-type {\n",
       "        vertical-align: middle;\n",
       "    }\n",
       "\n",
       "    .dataframe tbody tr th {\n",
       "        vertical-align: top;\n",
       "    }\n",
       "\n",
       "    .dataframe thead th {\n",
       "        text-align: right;\n",
       "    }\n",
       "</style>\n",
       "<table border=\"1\" class=\"dataframe\">\n",
       "  <thead>\n",
       "    <tr style=\"text-align: right;\">\n",
       "      <th></th>\n",
       "      <th>Land_Value</th>\n",
       "      <th>Improvement_Value</th>\n",
       "      <th>Taxable_Value</th>\n",
       "    </tr>\n",
       "    <tr>\n",
       "      <th>is_threatened</th>\n",
       "      <th></th>\n",
       "      <th></th>\n",
       "      <th></th>\n",
       "    </tr>\n",
       "  </thead>\n",
       "  <tbody>\n",
       "    <tr>\n",
       "      <th>False</th>\n",
       "      <td>41552703075</td>\n",
       "      <td>67851212115</td>\n",
       "      <td>96816459986</td>\n",
       "    </tr>\n",
       "    <tr>\n",
       "      <th>True</th>\n",
       "      <td>7078367309</td>\n",
       "      <td>8496261700</td>\n",
       "      <td>12781595349</td>\n",
       "    </tr>\n",
       "  </tbody>\n",
       "</table>\n",
       "</div>"
      ],
      "text/plain": [
       "                Land_Value  Improvement_Value  Taxable_Value\n",
       "is_threatened                                               \n",
       "False          41552703075        67851212115    96816459986\n",
       "True            7078367309         8496261700    12781595349"
      ]
     },
     "execution_count": 45,
     "metadata": {},
     "output_type": "execute_result"
    }
   ],
   "source": [
    "model_pierce = df_pierce.groupby(\"is_threatened\").sum()[[\"Land_Value\", \n",
    "                                                         \"Improvement_Value\", \n",
    "                                                         \"Taxable_Value\"]]\n",
    "\n",
    "model_pierce"
   ]
  },
  {
   "cell_type": "code",
   "execution_count": 46,
   "metadata": {},
   "outputs": [
    {
     "data": {
      "text/html": [
       "<div>\n",
       "<style scoped>\n",
       "    .dataframe tbody tr th:only-of-type {\n",
       "        vertical-align: middle;\n",
       "    }\n",
       "\n",
       "    .dataframe tbody tr th {\n",
       "        vertical-align: top;\n",
       "    }\n",
       "\n",
       "    .dataframe thead th {\n",
       "        text-align: right;\n",
       "    }\n",
       "</style>\n",
       "<table border=\"1\" class=\"dataframe\">\n",
       "  <thead>\n",
       "    <tr style=\"text-align: right;\">\n",
       "      <th></th>\n",
       "      <th>TOTAL_VALU</th>\n",
       "      <th>BLDG_VALUE</th>\n",
       "      <th>LAND_VALUE</th>\n",
       "    </tr>\n",
       "    <tr>\n",
       "      <th>is_threatened</th>\n",
       "      <th></th>\n",
       "      <th></th>\n",
       "      <th></th>\n",
       "    </tr>\n",
       "  </thead>\n",
       "  <tbody>\n",
       "    <tr>\n",
       "      <th>False</th>\n",
       "      <td>4.891489e+09</td>\n",
       "      <td>3.569679e+09</td>\n",
       "      <td>1.321810e+09</td>\n",
       "    </tr>\n",
       "    <tr>\n",
       "      <th>True</th>\n",
       "      <td>1.443203e+07</td>\n",
       "      <td>1.115550e+07</td>\n",
       "      <td>3.276530e+06</td>\n",
       "    </tr>\n",
       "  </tbody>\n",
       "</table>\n",
       "</div>"
      ],
      "text/plain": [
       "                 TOTAL_VALU    BLDG_VALUE    LAND_VALUE\n",
       "is_threatened                                          \n",
       "False          4.891489e+09  3.569679e+09  1.321810e+09\n",
       "True           1.443203e+07  1.115550e+07  3.276530e+06"
      ]
     },
     "execution_count": 46,
     "metadata": {},
     "output_type": "execute_result"
    }
   ],
   "source": [
    "model_thurston = df_thurston.groupby(\"is_threatened\").sum()[[\"TOTAL_VALU\",\n",
    "                                                             \"BLDG_VALUE\",\n",
    "                                                             \"LAND_VALUE\"]]\n",
    "\n",
    "model_thurston"
   ]
  },
  {
   "cell_type": "code",
   "execution_count": 68,
   "metadata": {},
   "outputs": [
    {
     "name": "stdout",
     "output_type": "stream",
     "text": [
      "King County Estimate:    \t 1721535754.4909642\n",
      "Pierce County Estimate:  \t 18705970469.775486\n",
      "Thurston County Estimate:\t 17333647.35962\n",
      "\n",
      " ---------------------------------------- \n",
      "\n",
      "King County Average Value Per Property: \t 609393.1874304297\n",
      "Pierce County Average Value Per Property:\t 629894.2812329691\n",
      "Thurston County Average Value Per Property:\t 157578.61236018184\n"
     ]
    }
   ],
   "source": [
    "king_est = model_king.loc[True].sum() * 1.201054\n",
    "pierce_est = model_pierce[[\"Land_Value\", \"Improvement_Value\"]].loc[True].sum() * 1.201054\n",
    "thurston_est = model_thurston[[\"BLDG_VALUE\", \"LAND_VALUE\"]].loc[True].sum() * 1.201054\n",
    "\n",
    "\n",
    "print(\"King County Estimate:    \\t\", king_est)\n",
    "print(\"Pierce County Estimate:  \\t\", pierce_est)\n",
    "print(\"Thurston County Estimate:\\t\", thurston_est)\n",
    "\n",
    "\n",
    "print(\"\\n\", \"-\" * 40, \"\\n\")\n",
    "\n",
    "\n",
    "print(\"King County Average Value Per Property: \\t\", \n",
    "      king_est / df_king[\"is_threatened\"].value_counts().loc[True])\n",
    "\n",
    "print(\"Pierce County Average Value Per Property:\\t\", \n",
    "      pierce_est / df_pierce[\"is_threatened\"].value_counts().loc[True])\n",
    "\n",
    "print(\"Thurston County Average Value Per Property:\\t\", \n",
    "      thurston_est / df_thurston[\"is_threatened\"].value_counts().loc[True])"
   ]
  },
  {
   "cell_type": "code",
   "execution_count": 51,
   "metadata": {},
   "outputs": [
    {
     "data": {
      "text/html": [
       "<div>\n",
       "<style scoped>\n",
       "    .dataframe tbody tr th:only-of-type {\n",
       "        vertical-align: middle;\n",
       "    }\n",
       "\n",
       "    .dataframe tbody tr th {\n",
       "        vertical-align: top;\n",
       "    }\n",
       "\n",
       "    .dataframe thead th {\n",
       "        text-align: right;\n",
       "    }\n",
       "</style>\n",
       "<table border=\"1\" class=\"dataframe\">\n",
       "  <thead>\n",
       "    <tr style=\"text-align: right;\">\n",
       "      <th></th>\n",
       "      <th>Land_Value</th>\n",
       "      <th>Improvement_Value</th>\n",
       "      <th>Taxable_Value</th>\n",
       "      <th>TAX_LNDVAL</th>\n",
       "      <th>TAX_IMPR</th>\n",
       "      <th>TOTAL_VALU</th>\n",
       "      <th>BLDG_VALUE</th>\n",
       "      <th>LAND_VALUE</th>\n",
       "    </tr>\n",
       "    <tr>\n",
       "      <th>is_threatened</th>\n",
       "      <th></th>\n",
       "      <th></th>\n",
       "      <th></th>\n",
       "      <th></th>\n",
       "      <th></th>\n",
       "      <th></th>\n",
       "      <th></th>\n",
       "      <th></th>\n",
       "    </tr>\n",
       "  </thead>\n",
       "  <tbody>\n",
       "    <tr>\n",
       "      <th>False</th>\n",
       "      <td>41552703075</td>\n",
       "      <td>67851212115</td>\n",
       "      <td>96816459986</td>\n",
       "      <td>5.288315e+09</td>\n",
       "      <td>1.206920e+10</td>\n",
       "      <td>4.891489e+09</td>\n",
       "      <td>3.569679e+09</td>\n",
       "      <td>1.321810e+09</td>\n",
       "    </tr>\n",
       "    <tr>\n",
       "      <th>True</th>\n",
       "      <td>7078367309</td>\n",
       "      <td>8496261700</td>\n",
       "      <td>12781595349</td>\n",
       "      <td>3.423397e+08</td>\n",
       "      <td>1.091014e+09</td>\n",
       "      <td>1.443203e+07</td>\n",
       "      <td>1.115550e+07</td>\n",
       "      <td>3.276530e+06</td>\n",
       "    </tr>\n",
       "  </tbody>\n",
       "</table>\n",
       "</div>"
      ],
      "text/plain": [
       "                Land_Value  Improvement_Value  Taxable_Value    TAX_LNDVAL  \\\n",
       "is_threatened                                                                \n",
       "False          41552703075        67851212115    96816459986  5.288315e+09   \n",
       "True            7078367309         8496261700    12781595349  3.423397e+08   \n",
       "\n",
       "                   TAX_IMPR    TOTAL_VALU    BLDG_VALUE    LAND_VALUE  \n",
       "is_threatened                                                          \n",
       "False          1.206920e+10  4.891489e+09  3.569679e+09  1.321810e+09  \n",
       "True           1.091014e+09  1.443203e+07  1.115550e+07  3.276530e+06  "
      ]
     },
     "execution_count": 51,
     "metadata": {},
     "output_type": "execute_result"
    }
   ],
   "source": [
    "model = pd.concat([model_pierce, model_king, model_thurston], axis = 1) \n",
    "\n",
    "model"
   ]
  },
  {
   "cell_type": "code",
   "execution_count": 52,
   "metadata": {},
   "outputs": [
    {
     "data": {
      "text/plain": [
       "9598431685.0"
      ]
     },
     "execution_count": 52,
     "metadata": {},
     "output_type": "execute_result"
    }
   ],
   "source": [
    "baseline_value_structures = model[[\"Improvement_Value\", \"TAX_IMPR\", \"BLDG_VALUE\"]].loc[True].sum()\n",
    "\n",
    "baseline_value_structures"
   ]
  },
  {
   "cell_type": "code",
   "execution_count": 53,
   "metadata": {},
   "outputs": [
    {
     "data": {
      "text/plain": [
       "7423983520.0"
      ]
     },
     "execution_count": 53,
     "metadata": {},
     "output_type": "execute_result"
    }
   ],
   "source": [
    "baseline_value_land = model[[\"Land_Value\", \"TAX_LNDVAL\", \"LAND_VALUE\"]].loc[True].sum()\n",
    "\n",
    "baseline_value_land"
   ]
  },
  {
   "cell_type": "code",
   "execution_count": 54,
   "metadata": {},
   "outputs": [
    {
     "data": {
      "text/plain": [
       "14229381545.0"
      ]
     },
     "execution_count": 54,
     "metadata": {},
     "output_type": "execute_result"
    }
   ],
   "source": [
    "baseline_value_total = model[[\"Taxable_Value\", \"TAX_LNDVAL\", \"TAX_IMPR\", \"TOTAL_VALU\"]].loc[True].sum()\n",
    "\n",
    "baseline_value_total"
   ]
  },
  {
   "cell_type": "code",
   "execution_count": 60,
   "metadata": {},
   "outputs": [
    {
     "data": {
      "text/plain": [
       "17022415205.0"
      ]
     },
     "execution_count": 60,
     "metadata": {},
     "output_type": "execute_result"
    }
   ],
   "source": [
    "9598431685.0 + 7423983520.0"
   ]
  },
  {
   "cell_type": "code",
   "execution_count": 61,
   "metadata": {},
   "outputs": [
    {
     "data": {
      "text/plain": [
       "17090255622.148432"
      ]
     },
     "execution_count": 61,
     "metadata": {},
     "output_type": "execute_result"
    }
   ],
   "source": [
    "baseline_value_total "
   ]
  },
  {
   "cell_type": "code",
   "execution_count": 63,
   "metadata": {},
   "outputs": [
    {
     "data": {
      "text/plain": [
       "20444839871.626072"
      ]
     },
     "execution_count": 63,
     "metadata": {},
     "output_type": "execute_result"
    }
   ],
   "source": [
    "(9598431685.0 + 7423983520.0) * 1.201054"
   ]
  },
  {
   "cell_type": "code",
   "execution_count": null,
   "metadata": {},
   "outputs": [],
   "source": []
  }
 ],
 "metadata": {
  "kernelspec": {
   "display_name": "Python 3",
   "language": "python",
   "name": "python3"
  },
  "language_info": {
   "codemirror_mode": {
    "name": "ipython",
    "version": 3
   },
   "file_extension": ".py",
   "mimetype": "text/x-python",
   "name": "python",
   "nbconvert_exporter": "python",
   "pygments_lexer": "ipython3",
   "version": "3.7.3"
  }
 },
 "nbformat": 4,
 "nbformat_minor": 2
}
