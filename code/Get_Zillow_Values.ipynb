{
 "cells": [
  {
   "cell_type": "markdown",
   "metadata": {},
   "source": [
    "## Get Zillow Values\n",
    "\n",
    "This notebook will take the King County data for properties that are in the danger zone, run the addresses through a Zillow API to get the market values of the property.\n",
    "\n",
    "It will then determine the difference and see if it's statistically significant"
   ]
  },
  {
   "cell_type": "code",
   "execution_count": null,
   "metadata": {},
   "outputs": [],
   "source": [
    "import urllib.parse\n",
    "import xml.etree.ElementTree as ET\n",
    "import pandas as pd\n",
    "import numpy as np\n",
    "import requests\n",
    "from scipy import stats\n",
    "\n",
    "pd.set_option('display.max_rows', 500)\n",
    "pd.set_option('display.max_columns', 500)\n",
    "pd.set_option('display.width', 1000)"
   ]
  },
  {
   "cell_type": "code",
   "execution_count": null,
   "metadata": {},
   "outputs": [],
   "source": [
    "# Set some Zillow stuff\n",
    "\n",
    "baseurl = 'http://www.zillow.com/webservice/GetSearchResults.htm?'\n",
    "zws_id = 'zws-id=X1-ZWz1h0jrvdalmz_52lx1'"
   ]
  },
  {
   "cell_type": "code",
   "execution_count": null,
   "metadata": {},
   "outputs": [],
   "source": [
    "# This will take in a dataframe of address and return the zestimate as part of the dataframe\n",
    "\n",
    "def get_zillow_values(df):\n",
    "    zillow_values = []\n",
    "\n",
    "    for i, data in df.iterrows():\n",
    "        \n",
    "# Create a url-encoded version of the street address\n",
    "        urlstr_addy = urllib.parse.quote(data['ADDR_FULL'])\n",
    "    \n",
    "# Create a url-encoded version of the city, state and zip\n",
    "        url_city_state = urllib.parse.quote(data['CTYNAME'] + ' WA ' + str(data['ZIP5']))\n",
    "    \n",
    "# Create the zillow api url\n",
    "        url = baseurl + zws_id + '&address=' + urlstr_addy + '&citystatezip=' + url_city_state\n",
    "        response = requests.get(url)\n",
    "        root = ET.fromstring(response.text)\n",
    "\n",
    "        response_code = root[1][1].text\n",
    "\n",
    "# If Zillow returns a value, cature it and put it in the list. If there is no value due to an error, simply\n",
    "# put a -1 in the list and move on\n",
    "        if response_code == '0':\n",
    "            try:\n",
    "                zillow_values.append(int(root[2][0][0][3][0].text))\n",
    "            except:\n",
    "                zillow_values.append(0)\n",
    "\n",
    "        else:\n",
    "            zillow_values.append(0)\n",
    "\n",
    "\n",
    "    \n",
    "    return zillow_values"
   ]
  },
  {
   "cell_type": "code",
   "execution_count": null,
   "metadata": {},
   "outputs": [],
   "source": [
    "# Read the csv file that has all of the threatened King County properties.\n",
    "\n",
    "king_df = pd.read_csv('../data/danger_king_robinson.csv')\n",
    "king_df.head()"
   ]
  },
  {
   "cell_type": "code",
   "execution_count": null,
   "metadata": {},
   "outputs": [],
   "source": [
    "# Since I only need 1000 values, I'm going to drop any nulls\n",
    "\n",
    "king_df.dropna(inplace=True)"
   ]
  },
  {
   "cell_type": "code",
   "execution_count": null,
   "metadata": {},
   "outputs": [],
   "source": [
    "# Add a column for total taxable values\n",
    "\n",
    "king_df['TOTALTAX'] = king_df['TAX_IMPR'] = king_df['TAX_LNDVAL']"
   ]
  },
  {
   "cell_type": "code",
   "execution_count": null,
   "metadata": {},
   "outputs": [],
   "source": [
    "# Get only the ones with a taxable value, and then pull 1k of those.\n",
    "\n",
    "zillow_df = king_df[ king_df['TOTALTAX'] != 0].sample(1000, random_state = 42)"
   ]
  },
  {
   "cell_type": "code",
   "execution_count": null,
   "metadata": {},
   "outputs": [],
   "source": [
    "# Get the zillow values\n",
    "\n",
    "zillow_values = get_zillow_values(zillow_df)"
   ]
  },
  {
   "cell_type": "code",
   "execution_count": null,
   "metadata": {},
   "outputs": [],
   "source": [
    "# Add them to the dataframe so we can more easily compare\n",
    "\n",
    "king_df['ZILLOW'] = zillow_df"
   ]
  },
  {
   "cell_type": "code",
   "execution_count": null,
   "metadata": {},
   "outputs": [],
   "source": [
    "# Drop any 0 zillow values, as we don't want them messing up the mean\n",
    "\n",
    "king_df = king_df[ king_df['ZILLOW'] != 0]"
   ]
  },
  {
   "cell_type": "code",
   "execution_count": null,
   "metadata": {},
   "outputs": [],
   "source": [
    "# Check to see how many remain\n",
    "\n",
    "king_df.shape"
   ]
  },
  {
   "cell_type": "code",
   "execution_count": null,
   "metadata": {},
   "outputs": [],
   "source": [
    "zil_mean = king_df['ZILLOW'].mean()\n",
    "kc_mean = king_df['TOTALTAX'].mean()\n",
    "diff = np.round( ((zil_mean / kc_mean) * 100), 4)\n",
    "print(diff)"
   ]
  },
  {
   "cell_type": "code",
   "execution_count": null,
   "metadata": {},
   "outputs": [],
   "source": [
    "# Time for a t-test\n",
    "\n",
    "stats.ttest_rel(king_df['ZILLOW'], king_df['TOTALTAX'])"
   ]
  },
  {
   "cell_type": "markdown",
   "metadata": {},
   "source": [
    "#### Analysis:\n",
    "\n",
    "Statistically significant. That's a pretty low P-Value.\n",
    "\n",
    "So, Zillow is 120.1053% greater than taxable."
   ]
  }
 ],
 "metadata": {
  "kernelspec": {
   "display_name": "Python 3",
   "language": "python",
   "name": "python3"
  },
  "language_info": {
   "codemirror_mode": {
    "name": "ipython",
    "version": 3
   },
   "file_extension": ".py",
   "mimetype": "text/x-python",
   "name": "python",
   "nbconvert_exporter": "python",
   "pygments_lexer": "ipython3",
   "version": "3.7.2"
  }
 },
 "nbformat": 4,
 "nbformat_minor": 2
}
