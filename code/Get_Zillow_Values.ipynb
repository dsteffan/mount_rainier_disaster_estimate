{
 "cells": [
  {
   "cell_type": "code",
   "execution_count": 1,
   "metadata": {},
   "outputs": [],
   "source": [
    "import urllib.parse\n",
    "import xml.etree.ElementTree as ET"
   ]
  },
  {
   "cell_type": "code",
   "execution_count": null,
   "metadata": {},
   "outputs": [],
   "source": [
    "baseurl = 'http://www.zillow.com/webservice/GetSearchResults.htm?'\n",
    "zws_id = 'zws-id=X1-ZWz1h0jrvdalmz_52lx1'"
   ]
  },
  {
   "cell_type": "code",
   "execution_count": null,
   "metadata": {},
   "outputs": [],
   "source": [
    "# This will take in a dataframe of address and return the zestimate as part of the dataframe\n",
    "\n",
    "def get_zillow_values(df);\n",
    "    zillow_values = []\n",
    "\n",
    "    for i, data in df.iterrows():\n",
    "        \n",
    "# Create a url-encoded version of the street address\n",
    "        urlstr_addy = urllib.parse.quote(data['Site_Address'])\n",
    "    \n",
    "# Create a url-encoded version of the city, state and zip\n",
    "        url_city_state = urllib.parse.quote(data['City_State'] + ' ' + data['Zipcode'])\n",
    "    \n",
    "# Create the zillow api url\n",
    "        url = baseurl + zws_id + '&address=' + urlstr_addy + '&citystatezip=' + url_city_state\n",
    "        response = requests.get(url)\n",
    "        root = ET.fromstring(response.text)\n",
    "\n",
    "        response_code = root[1][1].text\n",
    "\n",
    "# If Zillow returns a value, cature it and put it in the list. If there is no value due to an error, simply\n",
    "# put a -1 in the list and move on\n",
    "        if response_code == '0':\n",
    "            zillow_values.append(int(root[2][0][0][3][0].text))\n",
    "        else:\n",
    "            zillow_values.append(-1)\n",
    "\n",
    "    df['Zilllow_Values'] = zillow_values\n",
    "    \n",
    "    return(df)"
   ]
  }
 ],
 "metadata": {
  "kernelspec": {
   "display_name": "Python 3",
   "language": "python",
   "name": "python3"
  },
  "language_info": {
   "codemirror_mode": {
    "name": "ipython",
    "version": 3
   },
   "file_extension": ".py",
   "mimetype": "text/x-python",
   "name": "python",
   "nbconvert_exporter": "python",
   "pygments_lexer": "ipython3",
   "version": "3.7.2"
  }
 },
 "nbformat": 4,
 "nbformat_minor": 2
}
