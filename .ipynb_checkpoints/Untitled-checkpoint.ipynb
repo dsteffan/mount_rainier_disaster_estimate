{
 "cells": [
  {
   "cell_type": "code",
   "execution_count": 1,
   "metadata": {},
   "outputs": [],
   "source": [
    "zpid: 48651427"
   ]
  },
  {
   "cell_type": "code",
   "execution_count": 2,
   "metadata": {},
   "outputs": [
    {
     "ename": "NameError",
     "evalue": "name 'X1' is not defined",
     "output_type": "error",
     "traceback": [
      "\u001b[0;31m---------------------------------------------------------------------------\u001b[0m",
      "\u001b[0;31mNameError\u001b[0m                                 Traceback (most recent call last)",
      "\u001b[0;32m<ipython-input-2-04fb379db308>\u001b[0m in \u001b[0;36m<module>\u001b[0;34m\u001b[0m\n\u001b[0;32m----> 1\u001b[0;31m \u001b[0mzid\u001b[0m\u001b[0;34m:\u001b[0m \u001b[0mX1\u001b[0m\u001b[0;34m-\u001b[0m\u001b[0mZWz1h0jrvdalmz_52lx1\u001b[0m\u001b[0;34m\u001b[0m\u001b[0;34m\u001b[0m\u001b[0m\n\u001b[0m",
      "\u001b[0;31mNameError\u001b[0m: name 'X1' is not defined"
     ]
    }
   ],
   "source": [
    "zid: X1-ZWz1h0jrvdalmz_52lx1"
   ]
  },
  {
   "cell_type": "code",
   "execution_count": 34,
   "metadata": {},
   "outputs": [],
   "source": [
    "import urllib.parse"
   ]
  },
  {
   "cell_type": "code",
   "execution_count": 6,
   "metadata": {},
   "outputs": [],
   "source": [
    "address = '5936 39th ave sw, seattle, wa, 98136'\n",
    "\n",
    "urladdy = urllib.parse.quote(address)"
   ]
  },
  {
   "cell_type": "code",
   "execution_count": null,
   "metadata": {},
   "outputs": [],
   "source": [
    "http://www.zillow.com/webservice/GetSearchResults.htm?zws-id=&address=123-Main-Street&citystatezip=55555"
   ]
  },
  {
   "cell_type": "code",
   "execution_count": 7,
   "metadata": {},
   "outputs": [],
   "source": [
    "import zillow\n"
   ]
  },
  {
   "cell_type": "code",
   "execution_count": 10,
   "metadata": {},
   "outputs": [],
   "source": [
    "key = 'X1-ZWz1h0jrvdalmz_52lx1'\n",
    "\n",
    "api = zillow.ValuationApi()"
   ]
  },
  {
   "cell_type": "code",
   "execution_count": 11,
   "metadata": {},
   "outputs": [],
   "source": [
    "address = '5936 39th ave sw, seattle, wa'\n",
    "postal_code = '98136'"
   ]
  },
  {
   "cell_type": "code",
   "execution_count": 12,
   "metadata": {},
   "outputs": [],
   "source": [
    "data = api.GetSearchResults(key, address, postal_code)"
   ]
  },
  {
   "cell_type": "code",
   "execution_count": 19,
   "metadata": {},
   "outputs": [
    {
     "data": {
      "text/plain": [
       "zillow.place.Place"
      ]
     },
     "execution_count": 19,
     "metadata": {},
     "output_type": "execute_result"
    }
   ],
   "source": [
    "type(data)"
   ]
  },
  {
   "cell_type": "code",
   "execution_count": 24,
   "metadata": {},
   "outputs": [],
   "source": [
    "import sys"
   ]
  },
  {
   "cell_type": "code",
   "execution_count": 25,
   "metadata": {},
   "outputs": [
    {
     "ename": "NameError",
     "evalue": "name 'unicode' is not defined",
     "output_type": "error",
     "traceback": [
      "\u001b[0;31m---------------------------------------------------------------------------\u001b[0m",
      "\u001b[0;31mNameError\u001b[0m                                 Traceback (most recent call last)",
      "\u001b[0;32m<ipython-input-25-bf65c46f139a>\u001b[0m in \u001b[0;36m<module>\u001b[0;34m\u001b[0m\n\u001b[0;32m----> 1\u001b[0;31m \u001b[0mxmldata\u001b[0m \u001b[0;34m=\u001b[0m \u001b[0municode\u001b[0m\u001b[0;34m.\u001b[0m\u001b[0mencode\u001b[0m\u001b[0;34m(\u001b[0m\u001b[0mdata\u001b[0m\u001b[0;34m,\u001b[0m \u001b[0mencoding\u001b[0m\u001b[0;34m=\u001b[0m\u001b[0;34m'ascii'\u001b[0m\u001b[0;34m,\u001b[0m \u001b[0merrors\u001b[0m\u001b[0;34m=\u001b[0m\u001b[0;34m'ignore'\u001b[0m\u001b[0;34m)\u001b[0m\u001b[0;34m\u001b[0m\u001b[0;34m\u001b[0m\u001b[0m\n\u001b[0m\u001b[1;32m      2\u001b[0m \u001b[0;34m\u001b[0m\u001b[0m\n",
      "\u001b[0;31mNameError\u001b[0m: name 'unicode' is not defined"
     ]
    }
   ],
   "source": [
    "xmldata = unicode.encode(data, encoding='ascii', errors='ignore')\n",
    "\n"
   ]
  },
  {
   "cell_type": "code",
   "execution_count": 21,
   "metadata": {},
   "outputs": [],
   "source": [
    "import xml.etree.ElementTree as ET"
   ]
  },
  {
   "cell_type": "code",
   "execution_count": 22,
   "metadata": {},
   "outputs": [
    {
     "ename": "TypeError",
     "evalue": "expected str, bytes or os.PathLike object, not Place",
     "output_type": "error",
     "traceback": [
      "\u001b[0;31m---------------------------------------------------------------------------\u001b[0m",
      "\u001b[0;31mTypeError\u001b[0m                                 Traceback (most recent call last)",
      "\u001b[0;32m<ipython-input-22-c9d47fbcee4f>\u001b[0m in \u001b[0;36m<module>\u001b[0;34m\u001b[0m\n\u001b[0;32m----> 1\u001b[0;31m \u001b[0mtree\u001b[0m \u001b[0;34m=\u001b[0m \u001b[0mET\u001b[0m\u001b[0;34m.\u001b[0m\u001b[0mparse\u001b[0m\u001b[0;34m(\u001b[0m\u001b[0mdata\u001b[0m\u001b[0;34m)\u001b[0m\u001b[0;34m\u001b[0m\u001b[0;34m\u001b[0m\u001b[0m\n\u001b[0m",
      "\u001b[0;32m/anaconda3/lib/python3.7/xml/etree/ElementTree.py\u001b[0m in \u001b[0;36mparse\u001b[0;34m(source, parser)\u001b[0m\n\u001b[1;32m   1195\u001b[0m     \"\"\"\n\u001b[1;32m   1196\u001b[0m     \u001b[0mtree\u001b[0m \u001b[0;34m=\u001b[0m \u001b[0mElementTree\u001b[0m\u001b[0;34m(\u001b[0m\u001b[0;34m)\u001b[0m\u001b[0;34m\u001b[0m\u001b[0;34m\u001b[0m\u001b[0m\n\u001b[0;32m-> 1197\u001b[0;31m     \u001b[0mtree\u001b[0m\u001b[0;34m.\u001b[0m\u001b[0mparse\u001b[0m\u001b[0;34m(\u001b[0m\u001b[0msource\u001b[0m\u001b[0;34m,\u001b[0m \u001b[0mparser\u001b[0m\u001b[0;34m)\u001b[0m\u001b[0;34m\u001b[0m\u001b[0;34m\u001b[0m\u001b[0m\n\u001b[0m\u001b[1;32m   1198\u001b[0m     \u001b[0;32mreturn\u001b[0m \u001b[0mtree\u001b[0m\u001b[0;34m\u001b[0m\u001b[0;34m\u001b[0m\u001b[0m\n\u001b[1;32m   1199\u001b[0m \u001b[0;34m\u001b[0m\u001b[0m\n",
      "\u001b[0;32m/anaconda3/lib/python3.7/xml/etree/ElementTree.py\u001b[0m in \u001b[0;36mparse\u001b[0;34m(self, source, parser)\u001b[0m\n\u001b[1;32m    585\u001b[0m         \u001b[0mclose_source\u001b[0m \u001b[0;34m=\u001b[0m \u001b[0;32mFalse\u001b[0m\u001b[0;34m\u001b[0m\u001b[0;34m\u001b[0m\u001b[0m\n\u001b[1;32m    586\u001b[0m         \u001b[0;32mif\u001b[0m \u001b[0;32mnot\u001b[0m \u001b[0mhasattr\u001b[0m\u001b[0;34m(\u001b[0m\u001b[0msource\u001b[0m\u001b[0;34m,\u001b[0m \u001b[0;34m\"read\"\u001b[0m\u001b[0;34m)\u001b[0m\u001b[0;34m:\u001b[0m\u001b[0;34m\u001b[0m\u001b[0;34m\u001b[0m\u001b[0m\n\u001b[0;32m--> 587\u001b[0;31m             \u001b[0msource\u001b[0m \u001b[0;34m=\u001b[0m \u001b[0mopen\u001b[0m\u001b[0;34m(\u001b[0m\u001b[0msource\u001b[0m\u001b[0;34m,\u001b[0m \u001b[0;34m\"rb\"\u001b[0m\u001b[0;34m)\u001b[0m\u001b[0;34m\u001b[0m\u001b[0;34m\u001b[0m\u001b[0m\n\u001b[0m\u001b[1;32m    588\u001b[0m             \u001b[0mclose_source\u001b[0m \u001b[0;34m=\u001b[0m \u001b[0;32mTrue\u001b[0m\u001b[0;34m\u001b[0m\u001b[0;34m\u001b[0m\u001b[0m\n\u001b[1;32m    589\u001b[0m         \u001b[0;32mtry\u001b[0m\u001b[0;34m:\u001b[0m\u001b[0;34m\u001b[0m\u001b[0;34m\u001b[0m\u001b[0m\n",
      "\u001b[0;31mTypeError\u001b[0m: expected str, bytes or os.PathLike object, not Place"
     ]
    }
   ],
   "source": [
    "tree = ET.parse(data)"
   ]
  },
  {
   "cell_type": "code",
   "execution_count": 3,
   "metadata": {},
   "outputs": [
    {
     "name": "stdout",
     "output_type": "stream",
     "text": [
      "http://www.zillow.com/webservice/GetZestimate.htm?zws-id=X1-ZWz1h0jrvdalmz_52lx1&zpid=64969892\n",
      "<?xml version=\"1.0\" encoding=\"utf-8\"?><Zestimate:zestimate xsi:schemaLocation=\"http://www.zillow.com/static/xsd/Zestimate.xsd https://www.zillowstatic.com/vstatic/7de9b24/static/xsd/Zestimate.xsd\" xmlns:xsi=\"http://www.w3.org/2001/XMLSchema-instance\" xmlns:Zestimate=\"http://www.zillow.com/static/xsd/Zestimate.xsd\"><request><zpid>64969892</zpid></request><message><text>Request successfully processed</text><code>0</code></message><response><zpid>64969892</zpid><links><homedetails>https://www.zillow.com/homedetails/140-S-Van-Ness-Ave-UNIT-1015-San-Francisco-CA-94103/64969892_zpid/</homedetails><graphsanddata>http://www.zillow.com/homedetails/140-S-Van-Ness-Ave-UNIT-1015-San-Francisco-CA-94103/64969892_zpid/#charts-and-data</graphsanddata><mapthishome>http://www.zillow.com/homes/64969892_zpid/</mapthishome><comparables>http://www.zillow.com/homes/comps/64969892_zpid/</comparables></links><address><street>140 S Van Ness Ave UNIT 1015</street><zipcode>94103</zipcode><city>San Francisco</city><state>CA</state><latitude>37.771563</latitude><longitude>-122.418801</longitude></address><zestimate><amount currency=\"USD\">803361</amount><last-updated>04/14/2019</last-updated><oneWeekChange deprecated=\"true\"></oneWeekChange><valueChange duration=\"30\" currency=\"USD\">-5946</valueChange><valuationRange><low currency=\"USD\">763193</low><high currency=\"USD\">843529</high></valuationRange><percentile>39</percentile></zestimate><localRealEstate><region name=\"South of Market\" id=\"268491\" type=\"neighborhood\"><zindexValue>928,200</zindexValue><links><overview>http://www.zillow.com/local-info/CA-San-Francisco/South-of-Market/r_268491/</overview><forSaleByOwner>http://www.zillow.com/south-of-market-san-francisco-ca/fsbo/</forSaleByOwner><forSale>http://www.zillow.com/south-of-market-san-francisco-ca/</forSale></links></region></localRealEstate><regions><zipcode-id>97558</zipcode-id><city-id>20330</city-id><county-id>3227</county-id><state-id>9</state-id></regions></response></Zestimate:zestimate><!-- H:043  T:20ms  S:905  R:Mon Apr 15 11:55:17 PDT 2019  B:5.0.59689.5-hotfix_2019-04-10.a4901c4~hotfix-platform-for-2019-04-10.5bf180c -->\n"
     ]
    }
   ],
   "source": [
    "import sys\n",
    "import requests\n",
    "# import untangle\n",
    "# \n",
    "KEY = 'X1-ZWz1h0jrvdalmz_52lx1'\n",
    "# sys.argv[1]  # your zillow api key/id as argument to script\n",
    "\n",
    "# Find out how much property 64969892 is worth\n",
    "zpid = '64969892'\n",
    "URL = \"http://www.zillow.com/webservice/GetZestimate.htm?zws-id=X1-ZWz1h0jrvdalmz_52lx1&zpid=64969892\"\n",
    "print (URL)\n",
    "response = requests.get(URL)\n",
    "# xmldata = unicode.encode(response.text, encoding='ascii', errors='ignore')\n",
    "\n",
    "print (response.text)"
   ]
  },
  {
   "cell_type": "code",
   "execution_count": 4,
   "metadata": {},
   "outputs": [],
   "source": [
    "import xml.etree.ElementTree as ET"
   ]
  },
  {
   "cell_type": "code",
   "execution_count": 6,
   "metadata": {},
   "outputs": [],
   "source": [
    "root = ET.fromstring(response.text)"
   ]
  },
  {
   "cell_type": "code",
   "execution_count": 7,
   "metadata": {},
   "outputs": [
    {
     "data": {
      "text/plain": [
       "<Element '{http://www.zillow.com/static/xsd/Zestimate.xsd}zestimate' at 0x10ff34ea8>"
      ]
     },
     "execution_count": 7,
     "metadata": {},
     "output_type": "execute_result"
    }
   ],
   "source": [
    "root"
   ]
  },
  {
   "cell_type": "code",
   "execution_count": 15,
   "metadata": {},
   "outputs": [
    {
     "name": "stderr",
     "output_type": "stream",
     "text": [
      "/anaconda3/lib/python3.7/site-packages/ipykernel_launcher.py:1: DeprecationWarning: This method will be removed in future versions.  Use 'list(elem)' or iteration over elem instead.\n",
      "  \"\"\"Entry point for launching an IPython kernel.\n"
     ]
    },
    {
     "data": {
      "text/plain": [
       "[<Element 'request' at 0x10ff34d68>,\n",
       " <Element 'message' at 0x10fc57098>,\n",
       " <Element 'response' at 0x10fc572c8>]"
      ]
     },
     "execution_count": 15,
     "metadata": {},
     "output_type": "execute_result"
    }
   ],
   "source": [
    "root.getchildren()"
   ]
  },
  {
   "cell_type": "code",
   "execution_count": 17,
   "metadata": {},
   "outputs": [
    {
     "name": "stderr",
     "output_type": "stream",
     "text": [
      "/anaconda3/lib/python3.7/site-packages/ipykernel_launcher.py:1: DeprecationWarning: This method will be removed in future versions.  Use 'list(elem)' or iteration over elem instead.\n",
      "  \"\"\"Entry point for launching an IPython kernel.\n"
     ]
    },
    {
     "data": {
      "text/plain": [
       "[<Element 'zpid' at 0x10fc57318>,\n",
       " <Element 'links' at 0x10fc57368>,\n",
       " <Element 'address' at 0x10fc574f8>,\n",
       " <Element 'zestimate' at 0x10fc57778>,\n",
       " <Element 'localRealEstate' at 0x10fc57a48>,\n",
       " <Element 'regions' at 0x10fc57c78>]"
      ]
     },
     "execution_count": 17,
     "metadata": {},
     "output_type": "execute_result"
    }
   ],
   "source": [
    "root[2].getchildren()"
   ]
  },
  {
   "cell_type": "code",
   "execution_count": 18,
   "metadata": {},
   "outputs": [
    {
     "name": "stderr",
     "output_type": "stream",
     "text": [
      "/anaconda3/lib/python3.7/site-packages/ipykernel_launcher.py:1: DeprecationWarning: This method will be removed in future versions.  Use 'list(elem)' or iteration over elem instead.\n",
      "  \"\"\"Entry point for launching an IPython kernel.\n"
     ]
    },
    {
     "data": {
      "text/plain": [
       "[<Element 'amount' at 0x10fc577c8>,\n",
       " <Element 'last-updated' at 0x10fc57818>,\n",
       " <Element 'oneWeekChange' at 0x10fc57868>,\n",
       " <Element 'valueChange' at 0x10fc578b8>,\n",
       " <Element 'valuationRange' at 0x10fc57908>,\n",
       " <Element 'percentile' at 0x10fc579f8>]"
      ]
     },
     "execution_count": 18,
     "metadata": {},
     "output_type": "execute_result"
    }
   ],
   "source": [
    "root[2][3].getchildren()"
   ]
  },
  {
   "cell_type": "code",
   "execution_count": 22,
   "metadata": {},
   "outputs": [
    {
     "data": {
      "text/plain": [
       "'803361'"
      ]
     },
     "execution_count": 22,
     "metadata": {},
     "output_type": "execute_result"
    }
   ],
   "source": [
    "root[2][3][0].text"
   ]
  },
  {
   "cell_type": "code",
   "execution_count": 29,
   "metadata": {},
   "outputs": [
    {
     "name": "stdout",
     "output_type": "stream",
     "text": [
      "street 140 S Van Ness Ave UNIT 1015\n",
      "zipcode 94103\n",
      "city San Francisco\n",
      "state CA\n",
      "latitude 37.771563\n",
      "longitude -122.418801\n"
     ]
    }
   ],
   "source": [
    "for child in root[2][2]:\n",
    "    print(child.tag, child.text)"
   ]
  },
  {
   "cell_type": "code",
   "execution_count": 37,
   "metadata": {},
   "outputs": [],
   "source": [
    "baseurl = 'http://www.zillow.com/webservice/GetSearchResults.htm?'\n",
    "zws_id = 'zws-id=X1-ZWz1h0jrvdalmz_52lx1'"
   ]
  },
  {
   "cell_type": "code",
   "execution_count": 32,
   "metadata": {},
   "outputs": [],
   "source": [
    "street_address = '5936 39TH AVE SW'\n",
    "city_state_zip = 'SEATTLE, WA 98136'"
   ]
  },
  {
   "cell_type": "code",
   "execution_count": 35,
   "metadata": {},
   "outputs": [],
   "source": [
    "urlstr_addy = urllib.parse.quote(street_address)\n",
    "url_city_state = urllib.parse.quote(city_state_zip)"
   ]
  },
  {
   "cell_type": "code",
   "execution_count": 38,
   "metadata": {},
   "outputs": [],
   "source": [
    "url = baseurl + zws_id + '&address=' + urlstr_addy + '&citystatezip=' + url_city_state"
   ]
  },
  {
   "cell_type": "code",
   "execution_count": 40,
   "metadata": {},
   "outputs": [],
   "source": [
    "response = requests.get(url)"
   ]
  },
  {
   "cell_type": "code",
   "execution_count": 42,
   "metadata": {},
   "outputs": [
    {
     "data": {
      "text/plain": [
       "'<?xml version=\"1.0\" encoding=\"utf-8\"?><SearchResults:searchresults xsi:schemaLocation=\"http://www.zillow.com/static/xsd/SearchResults.xsd https://www.zillowstatic.com/vstatic/7de9b24/static/xsd/SearchResults.xsd\" xmlns:xsi=\"http://www.w3.org/2001/XMLSchema-instance\" xmlns:SearchResults=\"http://www.zillow.com/static/xsd/SearchResults.xsd\"><request><address>5936 39TH AVE SW</address><citystatezip>SEATTLE, WA 98136</citystatezip></request><message><text>Request successfully processed</text><code>0</code></message><response><results><result><zpid>48651427</zpid><links><homedetails>https://www.zillow.com/homedetails/5936-39th-Ave-SW-Seattle-WA-98136/48651427_zpid/</homedetails><graphsanddata>http://www.zillow.com/homedetails/5936-39th-Ave-SW-Seattle-WA-98136/48651427_zpid/#charts-and-data</graphsanddata><mapthishome>http://www.zillow.com/homes/48651427_zpid/</mapthishome><comparables>http://www.zillow.com/homes/comps/48651427_zpid/</comparables></links><address><street>5936 39th Ave SW</street><zipcode>98136</zipcode><city>Seattle</city><state>WA</state><latitude>47.549106</latitude><longitude>-122.381376</longitude></address><zestimate><amount currency=\"USD\">747173</amount><last-updated>04/14/2019</last-updated><oneWeekChange deprecated=\"true\"></oneWeekChange><valueChange duration=\"30\" currency=\"USD\">3933</valueChange><valuationRange><low currency=\"USD\">709814</low><high currency=\"USD\">784532</high></valuationRange><percentile>0</percentile></zestimate><localRealEstate><region name=\"Fairmount Park\" id=\"344021\" type=\"neighborhood\"><zindexValue>576,800</zindexValue><links><overview>http://www.zillow.com/local-info/WA-Seattle/Fairmount-Park/r_344021/</overview><forSaleByOwner>http://www.zillow.com/fairmount-park-seattle-wa/fsbo/</forSaleByOwner><forSale>http://www.zillow.com/fairmount-park-seattle-wa/</forSale></links></region></localRealEstate></result></results></response></SearchResults:searchresults><!-- H:046  T:34ms  S:869  R:Mon Apr 15 12:45:21 PDT 2019  B:5.0.59689.5-hotfix_2019-04-10.a4901c4~hotfix-platform-for-2019-04-10.5bf180c -->'"
      ]
     },
     "execution_count": 42,
     "metadata": {},
     "output_type": "execute_result"
    }
   ],
   "source": [
    "response.text"
   ]
  },
  {
   "cell_type": "code",
   "execution_count": 45,
   "metadata": {},
   "outputs": [
    {
     "name": "stderr",
     "output_type": "stream",
     "text": [
      "/anaconda3/lib/python3.7/site-packages/ipykernel_launcher.py:2: DeprecationWarning: This method will be removed in future versions.  Use 'list(elem)' or iteration over elem instead.\n",
      "  \n"
     ]
    },
    {
     "data": {
      "text/plain": [
       "[<Element 'request' at 0x10e293cc8>,\n",
       " <Element 'message' at 0x10e293728>,\n",
       " <Element 'response' at 0x10da9d188>]"
      ]
     },
     "execution_count": 45,
     "metadata": {},
     "output_type": "execute_result"
    }
   ],
   "source": [
    "root = ET.fromstring(response.text)\n",
    "root.getchildren()"
   ]
  },
  {
   "cell_type": "code",
   "execution_count": 83,
   "metadata": {},
   "outputs": [
    {
     "name": "stderr",
     "output_type": "stream",
     "text": [
      "/anaconda3/lib/python3.7/site-packages/ipykernel_launcher.py:1: DeprecationWarning: This method will be removed in future versions.  Use 'list(elem)' or iteration over elem instead.\n",
      "  \"\"\"Entry point for launching an IPython kernel.\n"
     ]
    },
    {
     "data": {
      "text/plain": [
       "[<Element 'text' at 0x10e3f2368>, <Element 'code' at 0x10da9d048>]"
      ]
     },
     "execution_count": 83,
     "metadata": {},
     "output_type": "execute_result"
    }
   ],
   "source": [
    "root[1].getchildren()"
   ]
  },
  {
   "cell_type": "code",
   "execution_count": 85,
   "metadata": {},
   "outputs": [
    {
     "data": {
      "text/plain": [
       "'0'"
      ]
     },
     "execution_count": 85,
     "metadata": {},
     "output_type": "execute_result"
    }
   ],
   "source": [
    "root[1][1].text"
   ]
  },
  {
   "cell_type": "code",
   "execution_count": 56,
   "metadata": {},
   "outputs": [
    {
     "data": {
      "text/plain": [
       "'747173'"
      ]
     },
     "execution_count": 56,
     "metadata": {},
     "output_type": "execute_result"
    }
   ],
   "source": [
    "root[2][0][0][3][0].text"
   ]
  },
  {
   "cell_type": "code",
   "execution_count": 57,
   "metadata": {},
   "outputs": [],
   "source": [
    "import pandas as pd\n"
   ]
  },
  {
   "cell_type": "code",
   "execution_count": 78,
   "metadata": {},
   "outputs": [],
   "source": [
    "df = pd.read_csv('./zillowtest.csv', header=0)"
   ]
  },
  {
   "cell_type": "code",
   "execution_count": 79,
   "metadata": {},
   "outputs": [
    {
     "data": {
      "text/html": [
       "<div>\n",
       "<style scoped>\n",
       "    .dataframe tbody tr th:only-of-type {\n",
       "        vertical-align: middle;\n",
       "    }\n",
       "\n",
       "    .dataframe tbody tr th {\n",
       "        vertical-align: top;\n",
       "    }\n",
       "\n",
       "    .dataframe thead th {\n",
       "        text-align: right;\n",
       "    }\n",
       "</style>\n",
       "<table border=\"1\" class=\"dataframe\">\n",
       "  <thead>\n",
       "    <tr style=\"text-align: right;\">\n",
       "      <th></th>\n",
       "      <th>OBJECTID</th>\n",
       "      <th>TaxParcelNumber</th>\n",
       "      <th>City_State</th>\n",
       "      <th>Zipcode</th>\n",
       "      <th>Site_Address</th>\n",
       "      <th>Land_Acres</th>\n",
       "      <th>Land_Value</th>\n",
       "      <th>Improvement_Value</th>\n",
       "      <th>Taxable_Value</th>\n",
       "      <th>Longitude</th>\n",
       "      <th>Latitude</th>\n",
       "    </tr>\n",
       "  </thead>\n",
       "  <tbody>\n",
       "    <tr>\n",
       "      <th>0</th>\n",
       "      <td>209892</td>\n",
       "      <td>6020560440</td>\n",
       "      <td>ORTING, WA</td>\n",
       "      <td>98360-9527</td>\n",
       "      <td>14421 144TH ST E</td>\n",
       "      <td>0.2870</td>\n",
       "      <td>122100</td>\n",
       "      <td>202300</td>\n",
       "      <td>324400</td>\n",
       "      <td>-122.23636</td>\n",
       "      <td>47.12559</td>\n",
       "    </tr>\n",
       "    <tr>\n",
       "      <th>1</th>\n",
       "      <td>308333</td>\n",
       "      <td>7001850910</td>\n",
       "      <td>ORTING, WA</td>\n",
       "      <td>98360-7424</td>\n",
       "      <td>1107 RIDDELL AV NE</td>\n",
       "      <td>0.1655</td>\n",
       "      <td>78000</td>\n",
       "      <td>195600</td>\n",
       "      <td>273600</td>\n",
       "      <td>-122.22183</td>\n",
       "      <td>47.11053</td>\n",
       "    </tr>\n",
       "    <tr>\n",
       "      <th>2</th>\n",
       "      <td>199773</td>\n",
       "      <td>3670200170</td>\n",
       "      <td>ORTING, WA</td>\n",
       "      <td>98360-1938</td>\n",
       "      <td>306 BRIDGE ST SE</td>\n",
       "      <td>0.0964</td>\n",
       "      <td>64600</td>\n",
       "      <td>108100</td>\n",
       "      <td>172700</td>\n",
       "      <td>-122.19799</td>\n",
       "      <td>47.09670</td>\n",
       "    </tr>\n",
       "    <tr>\n",
       "      <th>3</th>\n",
       "      <td>36890</td>\n",
       "      <td>317041034</td>\n",
       "      <td>ORTING, WA</td>\n",
       "      <td>98360-0125</td>\n",
       "      <td>100 293RD ST S</td>\n",
       "      <td>5.0000</td>\n",
       "      <td>97600</td>\n",
       "      <td>0</td>\n",
       "      <td>97600</td>\n",
       "      <td>-122.43197</td>\n",
       "      <td>46.99026</td>\n",
       "    </tr>\n",
       "    <tr>\n",
       "      <th>4</th>\n",
       "      <td>189492</td>\n",
       "      <td>9005470010</td>\n",
       "      <td>ORTING, WA</td>\n",
       "      <td>98360-7461</td>\n",
       "      <td>10007 186TH ST E UNIT 128</td>\n",
       "      <td>0.0578</td>\n",
       "      <td>33300</td>\n",
       "      <td>127200</td>\n",
       "      <td>160500</td>\n",
       "      <td>-122.29600</td>\n",
       "      <td>47.08720</td>\n",
       "    </tr>\n",
       "    <tr>\n",
       "      <th>5</th>\n",
       "      <td>147270</td>\n",
       "      <td>7002630590</td>\n",
       "      <td>ORTING, WA</td>\n",
       "      <td>98360</td>\n",
       "      <td>1001 COLOROSSI CIR NW</td>\n",
       "      <td>0.1355</td>\n",
       "      <td>77800</td>\n",
       "      <td>278700</td>\n",
       "      <td>356500</td>\n",
       "      <td>-122.22627</td>\n",
       "      <td>47.10719</td>\n",
       "    </tr>\n",
       "  </tbody>\n",
       "</table>\n",
       "</div>"
      ],
      "text/plain": [
       "   OBJECTID  TaxParcelNumber  City_State     Zipcode  \\\n",
       "0    209892       6020560440  ORTING, WA  98360-9527   \n",
       "1    308333       7001850910  ORTING, WA  98360-7424   \n",
       "2    199773       3670200170  ORTING, WA  98360-1938   \n",
       "3     36890        317041034  ORTING, WA  98360-0125   \n",
       "4    189492       9005470010  ORTING, WA  98360-7461   \n",
       "5    147270       7002630590  ORTING, WA       98360   \n",
       "\n",
       "                Site_Address  Land_Acres  Land_Value  Improvement_Value  \\\n",
       "0           14421 144TH ST E      0.2870      122100             202300   \n",
       "1         1107 RIDDELL AV NE      0.1655       78000             195600   \n",
       "2           306 BRIDGE ST SE      0.0964       64600             108100   \n",
       "3             100 293RD ST S      5.0000       97600                  0   \n",
       "4  10007 186TH ST E UNIT 128      0.0578       33300             127200   \n",
       "5      1001 COLOROSSI CIR NW      0.1355       77800             278700   \n",
       "\n",
       "   Taxable_Value  Longitude  Latitude  \n",
       "0         324400 -122.23636  47.12559  \n",
       "1         273600 -122.22183  47.11053  \n",
       "2         172700 -122.19799  47.09670  \n",
       "3          97600 -122.43197  46.99026  \n",
       "4         160500 -122.29600  47.08720  \n",
       "5         356500 -122.22627  47.10719  "
      ]
     },
     "execution_count": 79,
     "metadata": {},
     "output_type": "execute_result"
    }
   ],
   "source": [
    "df\n"
   ]
  },
  {
   "cell_type": "code",
   "execution_count": 62,
   "metadata": {},
   "outputs": [
    {
     "data": {
      "text/plain": [
       "OBJECTID               int64\n",
       "TaxParcelNumber        int64\n",
       "City_State            object\n",
       "Zipcode               object\n",
       "Site_Address          object\n",
       "Land_Acres           float64\n",
       "Land_Value             int64\n",
       "Improvement_Value      int64\n",
       "Taxable_Value          int64\n",
       "Longitude            float64\n",
       "Latitude             float64\n",
       "dtype: object"
      ]
     },
     "execution_count": 62,
     "metadata": {},
     "output_type": "execute_result"
    }
   ],
   "source": [
    "df.dtypes"
   ]
  },
  {
   "cell_type": "code",
   "execution_count": 71,
   "metadata": {},
   "outputs": [],
   "source": [
    "string = '12345-1234'\n",
    "\n",
    "newstring = string.split('-')"
   ]
  },
  {
   "cell_type": "code",
   "execution_count": 72,
   "metadata": {},
   "outputs": [
    {
     "data": {
      "text/plain": [
       "'12345'"
      ]
     },
     "execution_count": 72,
     "metadata": {},
     "output_type": "execute_result"
    }
   ],
   "source": [
    "newstring[0]\n"
   ]
  },
  {
   "cell_type": "code",
   "execution_count": 80,
   "metadata": {},
   "outputs": [],
   "source": [
    "df['Zipcode'] = df['Zipcode'].map(lambda x : x.split('-')[0])"
   ]
  },
  {
   "cell_type": "code",
   "execution_count": 89,
   "metadata": {},
   "outputs": [
    {
     "data": {
      "text/html": [
       "<div>\n",
       "<style scoped>\n",
       "    .dataframe tbody tr th:only-of-type {\n",
       "        vertical-align: middle;\n",
       "    }\n",
       "\n",
       "    .dataframe tbody tr th {\n",
       "        vertical-align: top;\n",
       "    }\n",
       "\n",
       "    .dataframe thead th {\n",
       "        text-align: right;\n",
       "    }\n",
       "</style>\n",
       "<table border=\"1\" class=\"dataframe\">\n",
       "  <thead>\n",
       "    <tr style=\"text-align: right;\">\n",
       "      <th></th>\n",
       "      <th>OBJECTID</th>\n",
       "      <th>TaxParcelNumber</th>\n",
       "      <th>City_State</th>\n",
       "      <th>Zipcode</th>\n",
       "      <th>Site_Address</th>\n",
       "      <th>Land_Acres</th>\n",
       "      <th>Land_Value</th>\n",
       "      <th>Improvement_Value</th>\n",
       "      <th>Taxable_Value</th>\n",
       "      <th>Longitude</th>\n",
       "      <th>Latitude</th>\n",
       "    </tr>\n",
       "  </thead>\n",
       "  <tbody>\n",
       "    <tr>\n",
       "      <th>0</th>\n",
       "      <td>209892</td>\n",
       "      <td>6020560440</td>\n",
       "      <td>ORTING, WA</td>\n",
       "      <td>98360</td>\n",
       "      <td>14421 144TH ST E</td>\n",
       "      <td>0.2870</td>\n",
       "      <td>122100</td>\n",
       "      <td>202300</td>\n",
       "      <td>324400</td>\n",
       "      <td>-122.23636</td>\n",
       "      <td>47.12559</td>\n",
       "    </tr>\n",
       "    <tr>\n",
       "      <th>1</th>\n",
       "      <td>308333</td>\n",
       "      <td>7001850910</td>\n",
       "      <td>ORTING, WA</td>\n",
       "      <td>98360</td>\n",
       "      <td>1107 RIDDELL AV NE</td>\n",
       "      <td>0.1655</td>\n",
       "      <td>78000</td>\n",
       "      <td>195600</td>\n",
       "      <td>273600</td>\n",
       "      <td>-122.22183</td>\n",
       "      <td>47.11053</td>\n",
       "    </tr>\n",
       "    <tr>\n",
       "      <th>2</th>\n",
       "      <td>199773</td>\n",
       "      <td>3670200170</td>\n",
       "      <td>ORTING, WA</td>\n",
       "      <td>98360</td>\n",
       "      <td>306 BRIDGE ST SE</td>\n",
       "      <td>0.0964</td>\n",
       "      <td>64600</td>\n",
       "      <td>108100</td>\n",
       "      <td>172700</td>\n",
       "      <td>-122.19799</td>\n",
       "      <td>47.09670</td>\n",
       "    </tr>\n",
       "    <tr>\n",
       "      <th>3</th>\n",
       "      <td>36890</td>\n",
       "      <td>317041034</td>\n",
       "      <td>ORTING, WA</td>\n",
       "      <td>98360</td>\n",
       "      <td>100 293RD ST S</td>\n",
       "      <td>5.0000</td>\n",
       "      <td>97600</td>\n",
       "      <td>0</td>\n",
       "      <td>97600</td>\n",
       "      <td>-122.43197</td>\n",
       "      <td>46.99026</td>\n",
       "    </tr>\n",
       "    <tr>\n",
       "      <th>4</th>\n",
       "      <td>189492</td>\n",
       "      <td>9005470010</td>\n",
       "      <td>ORTING, WA</td>\n",
       "      <td>98360</td>\n",
       "      <td>10007 186TH ST E UNIT 128</td>\n",
       "      <td>0.0578</td>\n",
       "      <td>33300</td>\n",
       "      <td>127200</td>\n",
       "      <td>160500</td>\n",
       "      <td>-122.29600</td>\n",
       "      <td>47.08720</td>\n",
       "    </tr>\n",
       "    <tr>\n",
       "      <th>5</th>\n",
       "      <td>147270</td>\n",
       "      <td>7002630590</td>\n",
       "      <td>ORTING, WA</td>\n",
       "      <td>98360</td>\n",
       "      <td>1001 COLOROSSI CIR NW</td>\n",
       "      <td>0.1355</td>\n",
       "      <td>77800</td>\n",
       "      <td>278700</td>\n",
       "      <td>356500</td>\n",
       "      <td>-122.22627</td>\n",
       "      <td>47.10719</td>\n",
       "    </tr>\n",
       "  </tbody>\n",
       "</table>\n",
       "</div>"
      ],
      "text/plain": [
       "   OBJECTID  TaxParcelNumber  City_State Zipcode               Site_Address  \\\n",
       "0    209892       6020560440  ORTING, WA   98360           14421 144TH ST E   \n",
       "1    308333       7001850910  ORTING, WA   98360         1107 RIDDELL AV NE   \n",
       "2    199773       3670200170  ORTING, WA   98360           306 BRIDGE ST SE   \n",
       "3     36890        317041034  ORTING, WA   98360             100 293RD ST S   \n",
       "4    189492       9005470010  ORTING, WA   98360  10007 186TH ST E UNIT 128   \n",
       "5    147270       7002630590  ORTING, WA   98360      1001 COLOROSSI CIR NW   \n",
       "\n",
       "   Land_Acres  Land_Value  Improvement_Value  Taxable_Value  Longitude  \\\n",
       "0      0.2870      122100             202300         324400 -122.23636   \n",
       "1      0.1655       78000             195600         273600 -122.22183   \n",
       "2      0.0964       64600             108100         172700 -122.19799   \n",
       "3      5.0000       97600                  0          97600 -122.43197   \n",
       "4      0.0578       33300             127200         160500 -122.29600   \n",
       "5      0.1355       77800             278700         356500 -122.22627   \n",
       "\n",
       "   Latitude  \n",
       "0  47.12559  \n",
       "1  47.11053  \n",
       "2  47.09670  \n",
       "3  46.99026  \n",
       "4  47.08720  \n",
       "5  47.10719  "
      ]
     },
     "execution_count": 89,
     "metadata": {},
     "output_type": "execute_result"
    }
   ],
   "source": [
    "df"
   ]
  },
  {
   "cell_type": "code",
   "execution_count": null,
   "metadata": {},
   "outputs": [],
   "source": [
    "baseurl = 'http://www.zillow.com/webservice/GetSearchResults.htm?'\n",
    "zws_id = 'zws-id=X1-ZWz1h0jrvdalmz_52lx1'"
   ]
  },
  {
   "cell_type": "code",
   "execution_count": 120,
   "metadata": {},
   "outputs": [
    {
     "name": "stdout",
     "output_type": "stream",
     "text": [
      "http://www.zillow.com/webservice/GetSearchResults.htm?zws-id=X1-ZWz1h0jrvdalmz_52lx1&address=14421%20144TH%20ST%20E&citystatezip=ORTING%2C%20WA%2098360\n",
      "Response code 0, code type <class 'str'>\n",
      "369444\n",
      "http://www.zillow.com/webservice/GetSearchResults.htm?zws-id=X1-ZWz1h0jrvdalmz_52lx1&address=1107%20RIDDELL%20AV%20NE&citystatezip=ORTING%2C%20WA%2098360\n",
      "Response code 0, code type <class 'str'>\n",
      "342173\n",
      "http://www.zillow.com/webservice/GetSearchResults.htm?zws-id=X1-ZWz1h0jrvdalmz_52lx1&address=306%20BRIDGE%20ST%20SE&citystatezip=ORTING%2C%20WA%2098360\n",
      "Response code 0, code type <class 'str'>\n",
      "267358\n",
      "http://www.zillow.com/webservice/GetSearchResults.htm?zws-id=X1-ZWz1h0jrvdalmz_52lx1&address=100%20293RD%20ST%20S&citystatezip=ORTING%2C%20WA%2098360\n",
      "Response code 508, code type <class 'str'>\n",
      "http://www.zillow.com/webservice/GetSearchResults.htm?zws-id=X1-ZWz1h0jrvdalmz_52lx1&address=10007%20186TH%20ST%20E%20UNIT%20128&citystatezip=ORTING%2C%20WA%2098360\n",
      "Response code 508, code type <class 'str'>\n",
      "http://www.zillow.com/webservice/GetSearchResults.htm?zws-id=X1-ZWz1h0jrvdalmz_52lx1&address=1001%20COLOROSSI%20CIR%20NW&citystatezip=ORTING%2C%20WA%2098360\n",
      "Response code 0, code type <class 'str'>\n",
      "409932\n"
     ]
    }
   ],
   "source": [
    "zillow_values = []\n",
    "\n",
    "for i, data in df.iterrows():\n",
    "    urlstr_addy = urllib.parse.quote(data['Site_Address'])\n",
    "    url_city_state = urllib.parse.quote(data['City_State'] + ' ' + data['Zipcode'])\n",
    "    url = baseurl + zws_id + '&address=' + urlstr_addy + '&citystatezip=' + url_city_state\n",
    "    response = requests.get(url)\n",
    "    root = ET.fromstring(response.text)\n",
    "    \n",
    "    \n",
    "    response_code = root[1][1].text\n",
    "    \n",
    "    if response_code == '0':\n",
    "        zillow_values.append(int(root[2][0][0][3][0].text))\n",
    "    else:\n",
    "        zillow_values.append(-1)\n",
    "        \n",
    "df['Zilllow_Values'] = zillow_values"
   ]
  },
  {
   "cell_type": "code",
   "execution_count": 121,
   "metadata": {},
   "outputs": [
    {
     "data": {
      "text/html": [
       "<div>\n",
       "<style scoped>\n",
       "    .dataframe tbody tr th:only-of-type {\n",
       "        vertical-align: middle;\n",
       "    }\n",
       "\n",
       "    .dataframe tbody tr th {\n",
       "        vertical-align: top;\n",
       "    }\n",
       "\n",
       "    .dataframe thead th {\n",
       "        text-align: right;\n",
       "    }\n",
       "</style>\n",
       "<table border=\"1\" class=\"dataframe\">\n",
       "  <thead>\n",
       "    <tr style=\"text-align: right;\">\n",
       "      <th></th>\n",
       "      <th>OBJECTID</th>\n",
       "      <th>TaxParcelNumber</th>\n",
       "      <th>City_State</th>\n",
       "      <th>Zipcode</th>\n",
       "      <th>Site_Address</th>\n",
       "      <th>Land_Acres</th>\n",
       "      <th>Land_Value</th>\n",
       "      <th>Improvement_Value</th>\n",
       "      <th>Taxable_Value</th>\n",
       "      <th>Longitude</th>\n",
       "      <th>Latitude</th>\n",
       "      <th>Zilllow_Values</th>\n",
       "    </tr>\n",
       "  </thead>\n",
       "  <tbody>\n",
       "    <tr>\n",
       "      <th>0</th>\n",
       "      <td>209892</td>\n",
       "      <td>6020560440</td>\n",
       "      <td>ORTING, WA</td>\n",
       "      <td>98360</td>\n",
       "      <td>14421 144TH ST E</td>\n",
       "      <td>0.2870</td>\n",
       "      <td>122100</td>\n",
       "      <td>202300</td>\n",
       "      <td>324400</td>\n",
       "      <td>-122.23636</td>\n",
       "      <td>47.12559</td>\n",
       "      <td>369444</td>\n",
       "    </tr>\n",
       "    <tr>\n",
       "      <th>1</th>\n",
       "      <td>308333</td>\n",
       "      <td>7001850910</td>\n",
       "      <td>ORTING, WA</td>\n",
       "      <td>98360</td>\n",
       "      <td>1107 RIDDELL AV NE</td>\n",
       "      <td>0.1655</td>\n",
       "      <td>78000</td>\n",
       "      <td>195600</td>\n",
       "      <td>273600</td>\n",
       "      <td>-122.22183</td>\n",
       "      <td>47.11053</td>\n",
       "      <td>342173</td>\n",
       "    </tr>\n",
       "    <tr>\n",
       "      <th>2</th>\n",
       "      <td>199773</td>\n",
       "      <td>3670200170</td>\n",
       "      <td>ORTING, WA</td>\n",
       "      <td>98360</td>\n",
       "      <td>306 BRIDGE ST SE</td>\n",
       "      <td>0.0964</td>\n",
       "      <td>64600</td>\n",
       "      <td>108100</td>\n",
       "      <td>172700</td>\n",
       "      <td>-122.19799</td>\n",
       "      <td>47.09670</td>\n",
       "      <td>267358</td>\n",
       "    </tr>\n",
       "    <tr>\n",
       "      <th>3</th>\n",
       "      <td>36890</td>\n",
       "      <td>317041034</td>\n",
       "      <td>ORTING, WA</td>\n",
       "      <td>98360</td>\n",
       "      <td>100 293RD ST S</td>\n",
       "      <td>5.0000</td>\n",
       "      <td>97600</td>\n",
       "      <td>0</td>\n",
       "      <td>97600</td>\n",
       "      <td>-122.43197</td>\n",
       "      <td>46.99026</td>\n",
       "      <td>-1</td>\n",
       "    </tr>\n",
       "    <tr>\n",
       "      <th>4</th>\n",
       "      <td>189492</td>\n",
       "      <td>9005470010</td>\n",
       "      <td>ORTING, WA</td>\n",
       "      <td>98360</td>\n",
       "      <td>10007 186TH ST E UNIT 128</td>\n",
       "      <td>0.0578</td>\n",
       "      <td>33300</td>\n",
       "      <td>127200</td>\n",
       "      <td>160500</td>\n",
       "      <td>-122.29600</td>\n",
       "      <td>47.08720</td>\n",
       "      <td>-1</td>\n",
       "    </tr>\n",
       "    <tr>\n",
       "      <th>5</th>\n",
       "      <td>147270</td>\n",
       "      <td>7002630590</td>\n",
       "      <td>ORTING, WA</td>\n",
       "      <td>98360</td>\n",
       "      <td>1001 COLOROSSI CIR NW</td>\n",
       "      <td>0.1355</td>\n",
       "      <td>77800</td>\n",
       "      <td>278700</td>\n",
       "      <td>356500</td>\n",
       "      <td>-122.22627</td>\n",
       "      <td>47.10719</td>\n",
       "      <td>409932</td>\n",
       "    </tr>\n",
       "  </tbody>\n",
       "</table>\n",
       "</div>"
      ],
      "text/plain": [
       "   OBJECTID  TaxParcelNumber  City_State Zipcode               Site_Address  \\\n",
       "0    209892       6020560440  ORTING, WA   98360           14421 144TH ST E   \n",
       "1    308333       7001850910  ORTING, WA   98360         1107 RIDDELL AV NE   \n",
       "2    199773       3670200170  ORTING, WA   98360           306 BRIDGE ST SE   \n",
       "3     36890        317041034  ORTING, WA   98360             100 293RD ST S   \n",
       "4    189492       9005470010  ORTING, WA   98360  10007 186TH ST E UNIT 128   \n",
       "5    147270       7002630590  ORTING, WA   98360      1001 COLOROSSI CIR NW   \n",
       "\n",
       "   Land_Acres  Land_Value  Improvement_Value  Taxable_Value  Longitude  \\\n",
       "0      0.2870      122100             202300         324400 -122.23636   \n",
       "1      0.1655       78000             195600         273600 -122.22183   \n",
       "2      0.0964       64600             108100         172700 -122.19799   \n",
       "3      5.0000       97600                  0          97600 -122.43197   \n",
       "4      0.0578       33300             127200         160500 -122.29600   \n",
       "5      0.1355       77800             278700         356500 -122.22627   \n",
       "\n",
       "   Latitude  Zilllow_Values  \n",
       "0  47.12559          369444  \n",
       "1  47.11053          342173  \n",
       "2  47.09670          267358  \n",
       "3  46.99026              -1  \n",
       "4  47.08720              -1  \n",
       "5  47.10719          409932  "
      ]
     },
     "execution_count": 121,
     "metadata": {},
     "output_type": "execute_result"
    }
   ],
   "source": [
    "df\n"
   ]
  },
  {
   "cell_type": "code",
   "execution_count": 105,
   "metadata": {},
   "outputs": [],
   "source": [
    "url = 'http://www.zillow.com/webservice/GetSearchResults.htm?zws-id=X1-ZWz1h0jrvdalmz_52lx1&address=14421%20144TH%20ST%20E&citystatezip=ORTING%2C%20WA%2098360'"
   ]
  },
  {
   "cell_type": "code",
   "execution_count": 106,
   "metadata": {},
   "outputs": [
    {
     "name": "stdout",
     "output_type": "stream",
     "text": [
      "0\n"
     ]
    }
   ],
   "source": [
    "response = requests.get(url)\n",
    "root = ET.fromstring(response.text)\n",
    "\n",
    "print(root[1][1].text)"
   ]
  },
  {
   "cell_type": "code",
   "execution_count": 107,
   "metadata": {},
   "outputs": [
    {
     "data": {
      "text/plain": [
       "'369444'"
      ]
     },
     "execution_count": 107,
     "metadata": {},
     "output_type": "execute_result"
    }
   ],
   "source": [
    "root[2][0][0][3][0].text\n"
   ]
  },
  {
   "cell_type": "code",
   "execution_count": null,
   "metadata": {},
   "outputs": [],
   "source": []
  }
 ],
 "metadata": {
  "kernelspec": {
   "display_name": "Python 3",
   "language": "python",
   "name": "python3"
  },
  "language_info": {
   "codemirror_mode": {
    "name": "ipython",
    "version": 3
   },
   "file_extension": ".py",
   "mimetype": "text/x-python",
   "name": "python",
   "nbconvert_exporter": "python",
   "pygments_lexer": "ipython3",
   "version": "3.7.2"
  }
 },
 "nbformat": 4,
 "nbformat_minor": 2
}
